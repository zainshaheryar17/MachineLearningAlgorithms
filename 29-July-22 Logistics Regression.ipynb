{
 "cells": [
  {
   "cell_type": "code",
   "execution_count": 1,
   "id": "c8cd202a",
   "metadata": {},
   "outputs": [],
   "source": [
    "import pandas as pd\n",
    "from sklearn.model_selection import train_test_split"
   ]
  },
  {
   "cell_type": "code",
   "execution_count": 2,
   "id": "8e99824f",
   "metadata": {},
   "outputs": [],
   "source": [
    "df=pd.read_csv('E:\\DataSets\\diabetes.csv')"
   ]
  },
  {
   "cell_type": "code",
   "execution_count": 4,
   "id": "00777e7a",
   "metadata": {},
   "outputs": [
    {
     "name": "stdout",
     "output_type": "stream",
     "text": [
      "['preg', 'glucose', 'bp_diastolic', 'skin_triceps', 'insulin', 'bmi', 'pedigree', 'age', 'label']\n"
     ]
    }
   ],
   "source": [
    "cols=list(df.columns)\n",
    "print(cols)"
   ]
  },
  {
   "cell_type": "code",
   "execution_count": null,
   "id": "c9aac799",
   "metadata": {},
   "outputs": [],
   "source": []
  },
  {
   "cell_type": "code",
   "execution_count": null,
   "id": "7e06e707",
   "metadata": {},
   "outputs": [],
   "source": []
  },
  {
   "cell_type": "code",
   "execution_count": 8,
   "id": "95bfda7b",
   "metadata": {},
   "outputs": [],
   "source": [
    "#x=train,y_test,x_test,y_train\n",
    "#where \n",
    "# x is feature_column and y is label"
   ]
  },
  {
   "cell_type": "code",
   "execution_count": 5,
   "id": "6f017f47",
   "metadata": {},
   "outputs": [
    {
     "name": "stdout",
     "output_type": "stream",
     "text": [
      "['glucose', 'bmi', 'pedigree', 'age']\n"
     ]
    }
   ],
   "source": [
    "#features_cols=cols['glucose','bmi','age']\n",
    "#print(features_cols)\n",
    "\n",
    "features_cols=['glucose','bmi', 'pedigree','age']\n",
    "print(features_cols)"
   ]
  },
  {
   "cell_type": "code",
   "execution_count": 6,
   "id": "e8b28795",
   "metadata": {},
   "outputs": [],
   "source": [
    "#data frme\n",
    "X=df[features_cols] # Features \n",
    "#series\n",
    "y=df.label         # Target variable\n",
    "X_train,X_test,y_train,y_test =train_test_split(X,y,test_size=0.3,random_state=1)"
   ]
  },
  {
   "cell_type": "code",
   "execution_count": 7,
   "id": "1a2b57b6",
   "metadata": {},
   "outputs": [
    {
     "data": {
      "text/plain": [
       "500"
      ]
     },
     "execution_count": 7,
     "metadata": {},
     "output_type": "execute_result"
    }
   ],
   "source": [
    "# get total numbers of 0 in the actual dataset\n",
    "count0 = df['label'][df['label']==0].count()\n",
    "count0"
   ]
  },
  {
   "cell_type": "code",
   "execution_count": 8,
   "id": "d5ca03a0",
   "metadata": {},
   "outputs": [
    {
     "data": {
      "text/plain": [
       "(537, 4)"
      ]
     },
     "execution_count": 8,
     "metadata": {},
     "output_type": "execute_result"
    }
   ],
   "source": [
    "#data frame\n",
    "X_train.shape"
   ]
  },
  {
   "cell_type": "code",
   "execution_count": 9,
   "id": "56237434",
   "metadata": {},
   "outputs": [
    {
     "data": {
      "text/plain": [
       "537"
      ]
     },
     "execution_count": 9,
     "metadata": {},
     "output_type": "execute_result"
    }
   ],
   "source": [
    "len(y_train)"
   ]
  },
  {
   "cell_type": "code",
   "execution_count": 10,
   "id": "be33d168",
   "metadata": {},
   "outputs": [
    {
     "data": {
      "text/plain": [
       "88     1\n",
       "467    0\n",
       "550    0\n",
       "147    0\n",
       "481    0\n",
       "      ..\n",
       "645    0\n",
       "715    1\n",
       "72     1\n",
       "235    1\n",
       "37     1\n",
       "Name: label, Length: 537, dtype: int64"
      ]
     },
     "execution_count": 10,
     "metadata": {},
     "output_type": "execute_result"
    }
   ],
   "source": [
    "y_train"
   ]
  },
  {
   "cell_type": "code",
   "execution_count": 11,
   "id": "3fe51f19",
   "metadata": {},
   "outputs": [
    {
     "data": {
      "text/plain": [
       "354"
      ]
     },
     "execution_count": 11,
     "metadata": {},
     "output_type": "execute_result"
    }
   ],
   "source": [
    "len(y_train[y_train==0])"
   ]
  },
  {
   "cell_type": "code",
   "execution_count": 12,
   "id": "510ce9ec",
   "metadata": {},
   "outputs": [
    {
     "data": {
      "text/plain": [
       "(231, 4)"
      ]
     },
     "execution_count": 12,
     "metadata": {},
     "output_type": "execute_result"
    }
   ],
   "source": [
    "X_test.shape"
   ]
  },
  {
   "cell_type": "code",
   "execution_count": 13,
   "id": "55d25a86",
   "metadata": {},
   "outputs": [
    {
     "data": {
      "text/plain": [
       "231"
      ]
     },
     "execution_count": 13,
     "metadata": {},
     "output_type": "execute_result"
    }
   ],
   "source": [
    "len(y_test)"
   ]
  },
  {
   "cell_type": "code",
   "execution_count": 14,
   "id": "2daf1136",
   "metadata": {},
   "outputs": [
    {
     "data": {
      "text/plain": [
       "146"
      ]
     },
     "execution_count": 14,
     "metadata": {},
     "output_type": "execute_result"
    }
   ],
   "source": [
    "len(y_test[y_test==0])"
   ]
  },
  {
   "cell_type": "code",
   "execution_count": 16,
   "id": "59bcedea",
   "metadata": {},
   "outputs": [],
   "source": [
    "from sklearn.linear_model import LogisticRegression"
   ]
  },
  {
   "cell_type": "code",
   "execution_count": 18,
   "id": "36100d29",
   "metadata": {},
   "outputs": [],
   "source": [
    "#create dEcision Tree classifer object\n",
    "clf = LogisticRegression()"
   ]
  },
  {
   "cell_type": "code",
   "execution_count": 19,
   "id": "4c25b5d3",
   "metadata": {},
   "outputs": [],
   "source": [
    "#Train classifer \n",
    "clf=clf.fit(X_train,y_train)"
   ]
  },
  {
   "cell_type": "code",
   "execution_count": 20,
   "id": "87ad045e",
   "metadata": {},
   "outputs": [
    {
     "data": {
      "text/plain": [
       "LogisticRegression()"
      ]
     },
     "execution_count": 20,
     "metadata": {},
     "output_type": "execute_result"
    }
   ],
   "source": [
    "clf"
   ]
  },
  {
   "cell_type": "code",
   "execution_count": 21,
   "id": "24dc5947",
   "metadata": {},
   "outputs": [],
   "source": [
    "#predict the response for test dataset\n",
    "y_pred=clf.predict(X_test)"
   ]
  },
  {
   "cell_type": "code",
   "execution_count": 22,
   "id": "9e2b30dd",
   "metadata": {},
   "outputs": [
    {
     "data": {
      "text/plain": [
       "231"
      ]
     },
     "execution_count": 22,
     "metadata": {},
     "output_type": "execute_result"
    }
   ],
   "source": [
    "len(y_pred)"
   ]
  },
  {
   "cell_type": "markdown",
   "id": "1f478c7d",
   "metadata": {},
   "source": [
    "# Evaluating a Classification Model"
   ]
  },
  {
   "cell_type": "markdown",
   "id": "cf3a677b",
   "metadata": {},
   "source": [
    "Basic Terminology"
   ]
  },
  {
   "cell_type": "markdown",
   "id": "3dcfc89b",
   "metadata": {},
   "source": [
    "True Positives (TP): We correctly predicated that they do have diaetes"
   ]
  },
  {
   "cell_type": "markdown",
   "id": "a6f03b65",
   "metadata": {},
   "source": [
    "True Positives (TN): We correctly predicated that they don't have diaetes"
   ]
  },
  {
   "cell_type": "markdown",
   "id": "70b8a814",
   "metadata": {},
   "source": [
    "False Positives (FP): We incorrectly predicated that they do have diaetes (a\"Type i error\")"
   ]
  },
  {
   "cell_type": "markdown",
   "id": "a9f99ade",
   "metadata": {},
   "source": [
    "False Positives (FN): We incorrectly predicated that they don't have diaetes (a\"Type i error\")"
   ]
  },
  {
   "cell_type": "code",
   "execution_count": 23,
   "id": "18db8874",
   "metadata": {},
   "outputs": [],
   "source": [
    "#calculate accuracy\n",
    "from sklearn import metrics"
   ]
  },
  {
   "cell_type": "code",
   "execution_count": 24,
   "id": "fcbf0e1f",
   "metadata": {},
   "outputs": [
    {
     "name": "stdout",
     "output_type": "stream",
     "text": [
      "Confusion Matrix\n",
      "[[132  14]\n",
      " [ 36  49]]\n"
     ]
    }
   ],
   "source": [
    "result=metrics.confusion_matrix(y_test,y_pred)\n",
    "print(\"Confusion Matrix\")\n",
    "print(result)"
   ]
  },
  {
   "cell_type": "code",
   "execution_count": 25,
   "id": "464029c1",
   "metadata": {},
   "outputs": [],
   "source": [
    "def plt1():\n",
    "    import seaborn as sns;sns.set()\n",
    "    c_mtrx=pd.crosstab(y_test,y_pred,rownames=['Actual'],colnames=['predicted'])\n",
    "    sns.heatmap(c_mtrx,annot=True,fmt = '.3g')"
   ]
  },
  {
   "cell_type": "code",
   "execution_count": 26,
   "id": "1a02142d",
   "metadata": {},
   "outputs": [
    {
     "data": {
      "image/png": "[encoded data removed]",
      "text/plain": [
       "<Figure size 432x288 with 2 Axes>"
      ]
     },
     "metadata": {},
     "output_type": "display_data"
    }
   ],
   "source": [
    "plt1()"
   ]
  },
  {
   "cell_type": "code",
   "execution_count": 27,
   "id": "8b966582",
   "metadata": {},
   "outputs": [],
   "source": [
    "#[Row, Column]\n",
    "# [Actual,Predict]\n",
    "TP = result[1, 1]   \n",
    "TN = result[0, 0]\n",
    "FP = result[0, 1]\n",
    "FN = result[1, 0]"
   ]
  },
  {
   "cell_type": "markdown",
   "id": "eb9f1f6b",
   "metadata": {},
   "source": [
    "# Metrics computed from a confusio matrix"
   ]
  },
  {
   "cell_type": "markdown",
   "id": "e97b7169",
   "metadata": {},
   "source": [
    "Classification Accuracy :Overall , how often is the classifer correct (TP+TN)/(TP+TN+FP+FN)"
   ]
  },
  {
   "cell_type": "markdown",
   "id": "1f8e11ef",
   "metadata": {},
   "source": [
    "Classification Error (Misclassification Rate): Overall how often is the classifier incorrect (FP+FN)/(TP+TN +FP+FN)"
   ]
  },
  {
   "cell_type": "markdown",
   "id": "9c1eb5f9",
   "metadata": {},
   "source": [
    "Classification Error =1 Classification Accuracy"
   ]
  },
  {
   "cell_type": "markdown",
   "id": "57a83d64",
   "metadata": {},
   "source": [
    "Sensititity (Recall ):When the actual value is positive ,how often is the prediction correct ? TP / (FN+TP)# (Row Wise)"
   ]
  },
  {
   "cell_type": "markdown",
   "id": "d64bbb24",
   "metadata": {},
   "source": [
    "Specificity: When the actual Value is negative how often is the prediction correct ? TN/(TN+FP)# (Row Wise)"
   ]
  },
  {
   "cell_type": "markdown",
   "id": "33ef854c",
   "metadata": {},
   "source": [
    "Precision When a positve value is predicated how often is the prediction correct ? TP (TP+FP) # Column wise\n"
   ]
  },
  {
   "cell_type": "markdown",
   "id": "14cc19b7",
   "metadata": {},
   "source": [
    "\n",
    "false Positive rate: when the actual value is nagative how often is the prediction incorrect ? FP/ (TN+FP)  # Column wise"
   ]
  },
  {
   "cell_type": "code",
   "execution_count": 28,
   "id": "72a30ab7",
   "metadata": {},
   "outputs": [],
   "source": [
    "def EvClsMdl(res):\n",
    "    print('Metrics computed from a confusion matrix')\n",
    "    print(\"Accuracy:\\t\", metrics.accuracy_score(y_test, y_pred))\n",
    "    print(\"Sensitivity:\\t\", metrics.recall_score(y_test, y_pred))\n",
    "    print(\"Specificity:\\t\",TN / (TN + FP))\n",
    "    print(\"Precision:\\t\", metrics.precision_score(y_test, y_pred))\n",
    "    print(\"Classification Eerror:\", 1 - metrics.accuracy_score(y_test, y_pred))\n",
    "    print(\"False_Positive_Rate:\", 1 - TN / (TN + FP))"
   ]
  },
  {
   "cell_type": "code",
   "execution_count": 29,
   "id": "efdaa71c",
   "metadata": {},
   "outputs": [
    {
     "name": "stdout",
     "output_type": "stream",
     "text": [
      "Metrics computed from a confusion matrix\n",
      "Accuracy:\t 0.7835497835497836\n",
      "Sensitivity:\t 0.5764705882352941\n",
      "Specificity:\t 0.9041095890410958\n",
      "Precision:\t 0.7777777777777778\n",
      "Classification Eerror: 0.21645021645021645\n",
      "False_Positive_Rate: 0.09589041095890416\n"
     ]
    }
   ],
   "source": [
    "EvClsMdl(result)"
   ]
  },
  {
   "cell_type": "code",
   "execution_count": 92,
   "id": "904dfe62",
   "metadata": {},
   "outputs": [],
   "source": [
    "#Metrics computed from a confusio matrix"
   ]
  },
  {
   "cell_type": "markdown",
   "id": "82469edf",
   "metadata": {},
   "source": [
    "# Regression Accucy matix"
   ]
  },
  {
   "cell_type": "code",
   "execution_count": 30,
   "id": "8ec80582",
   "metadata": {},
   "outputs": [
    {
     "data": {
      "text/html": [
       "<div>\n",
       "<style scoped>\n",
       "    .dataframe tbody tr th:only-of-type {\n",
       "        vertical-align: middle;\n",
       "    }\n",
       "\n",
       "    .dataframe tbody tr th {\n",
       "        vertical-align: top;\n",
       "    }\n",
       "\n",
       "    .dataframe thead th {\n",
       "        text-align: right;\n",
       "    }\n",
       "</style>\n",
       "<table border=\"1\" class=\"dataframe\">\n",
       "  <thead>\n",
       "    <tr style=\"text-align: right;\">\n",
       "      <th></th>\n",
       "      <th>Original</th>\n",
       "      <th>Predicated</th>\n",
       "    </tr>\n",
       "  </thead>\n",
       "  <tbody>\n",
       "    <tr>\n",
       "      <th>285</th>\n",
       "      <td>0</td>\n",
       "      <td>0</td>\n",
       "    </tr>\n",
       "    <tr>\n",
       "      <th>101</th>\n",
       "      <td>0</td>\n",
       "      <td>0</td>\n",
       "    </tr>\n",
       "    <tr>\n",
       "      <th>581</th>\n",
       "      <td>0</td>\n",
       "      <td>0</td>\n",
       "    </tr>\n",
       "    <tr>\n",
       "      <th>352</th>\n",
       "      <td>0</td>\n",
       "      <td>0</td>\n",
       "    </tr>\n",
       "    <tr>\n",
       "      <th>726</th>\n",
       "      <td>0</td>\n",
       "      <td>0</td>\n",
       "    </tr>\n",
       "  </tbody>\n",
       "</table>\n",
       "</div>"
      ],
      "text/plain": [
       "     Original  Predicated\n",
       "285         0           0\n",
       "101         0           0\n",
       "581         0           0\n",
       "352         0           0\n",
       "726         0           0"
      ]
     },
     "execution_count": 30,
     "metadata": {},
     "output_type": "execute_result"
    }
   ],
   "source": [
    "y= pd.DataFrame({'Original':y_test,'Predicated':y_pred})\n",
    "y.head()"
   ]
  },
  {
   "cell_type": "code",
   "execution_count": 31,
   "id": "555283eb",
   "metadata": {},
   "outputs": [
    {
     "data": {
      "text/html": [
       "<div>\n",
       "<style scoped>\n",
       "    .dataframe tbody tr th:only-of-type {\n",
       "        vertical-align: middle;\n",
       "    }\n",
       "\n",
       "    .dataframe tbody tr th {\n",
       "        vertical-align: top;\n",
       "    }\n",
       "\n",
       "    .dataframe thead th {\n",
       "        text-align: right;\n",
       "    }\n",
       "</style>\n",
       "<table border=\"1\" class=\"dataframe\">\n",
       "  <thead>\n",
       "    <tr style=\"text-align: right;\">\n",
       "      <th></th>\n",
       "      <th>Original</th>\n",
       "      <th>Predicated</th>\n",
       "    </tr>\n",
       "  </thead>\n",
       "  <tbody>\n",
       "    <tr>\n",
       "      <th>241</th>\n",
       "      <td>0</td>\n",
       "      <td>0</td>\n",
       "    </tr>\n",
       "    <tr>\n",
       "      <th>599</th>\n",
       "      <td>0</td>\n",
       "      <td>0</td>\n",
       "    </tr>\n",
       "    <tr>\n",
       "      <th>650</th>\n",
       "      <td>0</td>\n",
       "      <td>0</td>\n",
       "    </tr>\n",
       "    <tr>\n",
       "      <th>11</th>\n",
       "      <td>1</td>\n",
       "      <td>1</td>\n",
       "    </tr>\n",
       "    <tr>\n",
       "      <th>214</th>\n",
       "      <td>1</td>\n",
       "      <td>0</td>\n",
       "    </tr>\n",
       "  </tbody>\n",
       "</table>\n",
       "</div>"
      ],
      "text/plain": [
       "     Original  Predicated\n",
       "241         0           0\n",
       "599         0           0\n",
       "650         0           0\n",
       "11          1           1\n",
       "214         1           0"
      ]
     },
     "execution_count": 31,
     "metadata": {},
     "output_type": "execute_result"
    }
   ],
   "source": [
    "y.tail()"
   ]
  },
  {
   "cell_type": "code",
   "execution_count": 32,
   "id": "d18b6502",
   "metadata": {},
   "outputs": [
    {
     "data": {
      "text/html": [
       "<div>\n",
       "<style scoped>\n",
       "    .dataframe tbody tr th:only-of-type {\n",
       "        vertical-align: middle;\n",
       "    }\n",
       "\n",
       "    .dataframe tbody tr th {\n",
       "        vertical-align: top;\n",
       "    }\n",
       "\n",
       "    .dataframe thead th {\n",
       "        text-align: right;\n",
       "    }\n",
       "</style>\n",
       "<table border=\"1\" class=\"dataframe\">\n",
       "  <thead>\n",
       "    <tr style=\"text-align: right;\">\n",
       "      <th></th>\n",
       "      <th>Original</th>\n",
       "      <th>Predicated</th>\n",
       "    </tr>\n",
       "  </thead>\n",
       "  <tbody>\n",
       "    <tr>\n",
       "      <th>540</th>\n",
       "      <td>1</td>\n",
       "      <td>0</td>\n",
       "    </tr>\n",
       "    <tr>\n",
       "      <th>159</th>\n",
       "      <td>1</td>\n",
       "      <td>1</td>\n",
       "    </tr>\n",
       "    <tr>\n",
       "      <th>757</th>\n",
       "      <td>1</td>\n",
       "      <td>0</td>\n",
       "    </tr>\n",
       "    <tr>\n",
       "      <th>714</th>\n",
       "      <td>0</td>\n",
       "      <td>0</td>\n",
       "    </tr>\n",
       "    <tr>\n",
       "      <th>628</th>\n",
       "      <td>0</td>\n",
       "      <td>0</td>\n",
       "    </tr>\n",
       "    <tr>\n",
       "      <th>17</th>\n",
       "      <td>1</td>\n",
       "      <td>0</td>\n",
       "    </tr>\n",
       "    <tr>\n",
       "      <th>701</th>\n",
       "      <td>1</td>\n",
       "      <td>0</td>\n",
       "    </tr>\n",
       "    <tr>\n",
       "      <th>172</th>\n",
       "      <td>0</td>\n",
       "      <td>0</td>\n",
       "    </tr>\n",
       "    <tr>\n",
       "      <th>747</th>\n",
       "      <td>0</td>\n",
       "      <td>0</td>\n",
       "    </tr>\n",
       "    <tr>\n",
       "      <th>705</th>\n",
       "      <td>0</td>\n",
       "      <td>0</td>\n",
       "    </tr>\n",
       "  </tbody>\n",
       "</table>\n",
       "</div>"
      ],
      "text/plain": [
       "     Original  Predicated\n",
       "540         1           0\n",
       "159         1           1\n",
       "757         1           0\n",
       "714         0           0\n",
       "628         0           0\n",
       "17          1           0\n",
       "701         1           0\n",
       "172         0           0\n",
       "747         0           0\n",
       "705         0           0"
      ]
     },
     "execution_count": 32,
     "metadata": {},
     "output_type": "execute_result"
    }
   ],
   "source": [
    "y.sample(10)"
   ]
  },
  {
   "cell_type": "code",
   "execution_count": null,
   "id": "a0d0da50",
   "metadata": {},
   "outputs": [],
   "source": []
  },
  {
   "cell_type": "code",
   "execution_count": null,
   "id": "6b3c6136",
   "metadata": {},
   "outputs": [],
   "source": []
  },
  {
   "cell_type": "code",
   "execution_count": null,
   "id": "9997f8c7",
   "metadata": {},
   "outputs": [],
   "source": []
  }
 ],
 "metadata": {
  "kernelspec": {
   "display_name": "Python 3 (ipykernel)",
   "language": "python",
   "name": "python3"
  },
  "language_info": {
   "codemirror_mode": {
    "name": "ipython",
    "version": 3
   },
   "file_extension": ".py",
   "mimetype": "text/x-python",
   "name": "python",
   "nbconvert_exporter": "python",
   "pygments_lexer": "ipython3",
   "version": "3.9.7"
  }
 },
 "nbformat": 4,
 "nbformat_minor": 5
}
