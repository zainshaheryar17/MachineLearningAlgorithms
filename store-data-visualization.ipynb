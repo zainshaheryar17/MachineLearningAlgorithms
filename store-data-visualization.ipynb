{
 "cells": [
  {
   "cell_type": "code",
   "execution_count": 1,
   "id": "47990fad",
   "metadata": {
    "_cell_guid": "b1076dfc-b9ad-4769-8c92-a6c4dae69d19",
    "_uuid": "8f2839f25d086af736a60e9eeb907d3b93b6e0e5",
    "execution": {
     "iopub.execute_input": "2022-05-21T17:31:16.823316Z",
     "iopub.status.busy": "2022-05-21T17:31:16.822934Z",
     "iopub.status.idle": "2022-05-21T17:31:16.841138Z",
     "shell.execute_reply": "2022-05-21T17:31:16.840132Z"
    },
    "papermill": {
     "duration": 0.036636,
     "end_time": "2022-05-21T17:31:16.843480",
     "exception": false,
     "start_time": "2022-05-21T17:31:16.806844",
     "status": "completed"
    },
    "tags": []
   },
   "outputs": [
    {
     "name": "stdout",
     "output_type": "stream",
     "text": [
      "/kaggle/input/stores-area-and-sales-data/Stores.csv\n"
     ]
    }
   ],
   "source": [
    "# This Python 3 environment comes with many helpful analytics libraries installed\n",
    "# It is defined by the kaggle/python Docker image: https://github.com/kaggle/docker-python\n",
    "# For example, here's several helpful packages to load\n",
    "\n",
    "import numpy as np # linear algebra\n",
    "import pandas as pd # data processing, CSV file I/O (e.g. pd.read_csv)\n",
    "\n",
    "# Input data files are available in the read-only \"../input/\" directory\n",
    "# For example, running this (by clicking run or pressing Shift+Enter) will list all files under the input directory\n",
    "\n",
    "import os\n",
    "for dirname, _, filenames in os.walk('/kaggle/input'):\n",
    "    for filename in filenames:\n",
    "        print(os.path.join(dirname, filename))\n",
    "\n",
    "# You can write up to 20GB to the current directory (/kaggle/working/) that gets preserved as output when you create a version using \"Save & Run All\" \n",
    "# You can also write temporary files to /kaggle/temp/, but they won't be saved outside of the current session"
   ]
  },
  {
   "cell_type": "code",
   "execution_count": 2,
   "id": "d28931fe",
   "metadata": {
    "execution": {
     "iopub.execute_input": "2022-05-21T17:31:16.873024Z",
     "iopub.status.busy": "2022-05-21T17:31:16.872188Z",
     "iopub.status.idle": "2022-05-21T17:31:17.944034Z",
     "shell.execute_reply": "2022-05-21T17:31:17.943058Z"
    },
    "papermill": {
     "duration": 1.089571,
     "end_time": "2022-05-21T17:31:17.947075",
     "exception": false,
     "start_time": "2022-05-21T17:31:16.857504",
     "status": "completed"
    },
    "tags": []
   },
   "outputs": [],
   "source": [
    "#importing other releveant tools\n",
    "import matplotlib.pyplot as plt\n",
    "import seaborn as sns"
   ]
  },
  {
   "cell_type": "code",
   "execution_count": 3,
   "id": "e4aebe6e",
   "metadata": {
    "execution": {
     "iopub.execute_input": "2022-05-21T17:31:17.976150Z",
     "iopub.status.busy": "2022-05-21T17:31:17.975842Z",
     "iopub.status.idle": "2022-05-21T17:31:18.030024Z",
     "shell.execute_reply": "2022-05-21T17:31:18.028981Z"
    },
    "papermill": {
     "duration": 0.071461,
     "end_time": "2022-05-21T17:31:18.032450",
     "exception": false,
     "start_time": "2022-05-21T17:31:17.960989",
     "status": "completed"
    },
    "tags": []
   },
   "outputs": [
    {
     "name": "stdout",
     "output_type": "stream",
     "text": [
      "        Store_Area  Items_Available  Daily_Customer_Count    Store_Sales\n",
      "count   896.000000       896.000000            896.000000     896.000000\n",
      "mean   1485.409598      1782.035714            786.350446   59351.305804\n",
      "std     250.237011       299.872053            265.389281   17190.741895\n",
      "min     775.000000       932.000000             10.000000   14920.000000\n",
      "25%    1316.750000      1575.500000            600.000000   46530.000000\n",
      "50%    1477.000000      1773.500000            780.000000   58605.000000\n",
      "75%    1653.500000      1982.750000            970.000000   71872.500000\n",
      "max    2229.000000      2667.000000           1560.000000  116320.000000\n",
      "           Store_Area  Items_Available  Daily_Customer_Count  Store_Sales\n",
      "Store ID                                                                 \n",
      "1                1659             1961                   530        66490\n",
      "2                1461             1752                   210        39820\n",
      "3                1340             1609                   720        54010\n",
      "4                1451             1748                   620        53730\n",
      "5                1770             2111                   450        46620\n"
     ]
    }
   ],
   "source": [
    "#turning my csv data to a dataframe ...\n",
    "store_data = pd.read_csv('/kaggle/input/stores-area-and-sales-data/Stores.csv' , index_col = 0)\n",
    "\n",
    "#what does my data look like?\n",
    "print(store_data.describe())\n",
    "print(store_data.head())"
   ]
  },
  {
   "cell_type": "markdown",
   "id": "083739f3",
   "metadata": {
    "papermill": {
     "duration": 0.014314,
     "end_time": "2022-05-21T17:31:18.060530",
     "exception": false,
     "start_time": "2022-05-21T17:31:18.046216",
     "status": "completed"
    },
    "tags": []
   },
   "source": [
    "****Notice from the data summary that there are no missing values, so we do not need to worry about that. We can see from the description above that we have data for 896 stores. The mean value for each variable is given in the row titled \"mean\".\n",
    "Next, we would want to know how the different variables affect each other.****"
   ]
  },
  {
   "cell_type": "markdown",
   "id": "198854a0",
   "metadata": {
    "papermill": {
     "duration": 0.01346,
     "end_time": "2022-05-21T17:31:18.088165",
     "exception": false,
     "start_time": "2022-05-21T17:31:18.074705",
     "status": "completed"
    },
    "tags": []
   },
   "source": [
    "****First off, I'm curious about something. From our summary table, we can see that a store has a daily customer count of only 10?! Interesting. Let's see what the rest of the data for that store looks like.****"
   ]
  },
  {
   "cell_type": "code",
   "execution_count": 4,
   "id": "a043b5c3",
   "metadata": {
    "execution": {
     "iopub.execute_input": "2022-05-21T17:31:18.117159Z",
     "iopub.status.busy": "2022-05-21T17:31:18.116859Z",
     "iopub.status.idle": "2022-05-21T17:31:18.131851Z",
     "shell.execute_reply": "2022-05-21T17:31:18.130979Z"
    },
    "papermill": {
     "duration": 0.031991,
     "end_time": "2022-05-21T17:31:18.133933",
     "exception": false,
     "start_time": "2022-05-21T17:31:18.101942",
     "status": "completed"
    },
    "tags": []
   },
   "outputs": [
    {
     "data": {
      "text/html": [
       "<div>\n",
       "<style scoped>\n",
       "    .dataframe tbody tr th:only-of-type {\n",
       "        vertical-align: middle;\n",
       "    }\n",
       "\n",
       "    .dataframe tbody tr th {\n",
       "        vertical-align: top;\n",
       "    }\n",
       "\n",
       "    .dataframe thead th {\n",
       "        text-align: right;\n",
       "    }\n",
       "</style>\n",
       "<table border=\"1\" class=\"dataframe\">\n",
       "  <thead>\n",
       "    <tr style=\"text-align: right;\">\n",
       "      <th></th>\n",
       "      <th>Store_Area</th>\n",
       "      <th>Items_Available</th>\n",
       "      <th>Daily_Customer_Count</th>\n",
       "      <th>Store_Sales</th>\n",
       "    </tr>\n",
       "    <tr>\n",
       "      <th>Store ID</th>\n",
       "      <th></th>\n",
       "      <th></th>\n",
       "      <th></th>\n",
       "      <th></th>\n",
       "    </tr>\n",
       "  </thead>\n",
       "  <tbody>\n",
       "    <tr>\n",
       "      <th>40</th>\n",
       "      <td>1270</td>\n",
       "      <td>1516</td>\n",
       "      <td>10</td>\n",
       "      <td>45480</td>\n",
       "    </tr>\n",
       "  </tbody>\n",
       "</table>\n",
       "</div>"
      ],
      "text/plain": [
       "           Store_Area  Items_Available  Daily_Customer_Count  Store_Sales\n",
       "Store ID                                                                 \n",
       "40               1270             1516                    10        45480"
      ]
     },
     "execution_count": 4,
     "metadata": {},
     "output_type": "execute_result"
    }
   ],
   "source": [
    "store_data[store_data['Daily_Customer_Count'] == 10]"
   ]
  },
  {
   "cell_type": "markdown",
   "id": "bf310418",
   "metadata": {
    "papermill": {
     "duration": 0.013879,
     "end_time": "2022-05-21T17:31:18.162041",
     "exception": false,
     "start_time": "2022-05-21T17:31:18.148162",
     "status": "completed"
    },
    "tags": []
   },
   "source": [
    "****This is really interesting. A store with an average of only 10 daily customers makes more sales than almost 25% percent of the other stores. It might just be located in some boujie area. This particular store compared to others does not have alot of items either, that could be another reason for its low traffic.****"
   ]
  },
  {
   "cell_type": "code",
   "execution_count": 5,
   "id": "5b3e6d13",
   "metadata": {
    "execution": {
     "iopub.execute_input": "2022-05-21T17:31:18.192366Z",
     "iopub.status.busy": "2022-05-21T17:31:18.191950Z",
     "iopub.status.idle": "2022-05-21T17:31:18.202554Z",
     "shell.execute_reply": "2022-05-21T17:31:18.201582Z"
    },
    "papermill": {
     "duration": 0.02814,
     "end_time": "2022-05-21T17:31:18.204503",
     "exception": false,
     "start_time": "2022-05-21T17:31:18.176363",
     "status": "completed"
    },
    "tags": []
   },
   "outputs": [
    {
     "data": {
      "text/html": [
       "<div>\n",
       "<style scoped>\n",
       "    .dataframe tbody tr th:only-of-type {\n",
       "        vertical-align: middle;\n",
       "    }\n",
       "\n",
       "    .dataframe tbody tr th {\n",
       "        vertical-align: top;\n",
       "    }\n",
       "\n",
       "    .dataframe thead th {\n",
       "        text-align: right;\n",
       "    }\n",
       "</style>\n",
       "<table border=\"1\" class=\"dataframe\">\n",
       "  <thead>\n",
       "    <tr style=\"text-align: right;\">\n",
       "      <th></th>\n",
       "      <th>Store_Area</th>\n",
       "      <th>Items_Available</th>\n",
       "      <th>Daily_Customer_Count</th>\n",
       "      <th>Store_Sales</th>\n",
       "    </tr>\n",
       "    <tr>\n",
       "      <th>Store ID</th>\n",
       "      <th></th>\n",
       "      <th></th>\n",
       "      <th></th>\n",
       "      <th></th>\n",
       "    </tr>\n",
       "  </thead>\n",
       "  <tbody>\n",
       "    <tr>\n",
       "      <th>650</th>\n",
       "      <td>1989</td>\n",
       "      <td>2414</td>\n",
       "      <td>860</td>\n",
       "      <td>116320</td>\n",
       "    </tr>\n",
       "  </tbody>\n",
       "</table>\n",
       "</div>"
      ],
      "text/plain": [
       "           Store_Area  Items_Available  Daily_Customer_Count  Store_Sales\n",
       "Store ID                                                                 \n",
       "650              1989             2414                   860       116320"
      ]
     },
     "execution_count": 5,
     "metadata": {},
     "output_type": "execute_result"
    }
   ],
   "source": [
    "store_data[store_data['Store_Sales']== 116320]"
   ]
  },
  {
   "cell_type": "code",
   "execution_count": 6,
   "id": "c7594d15",
   "metadata": {
    "execution": {
     "iopub.execute_input": "2022-05-21T17:31:18.236760Z",
     "iopub.status.busy": "2022-05-21T17:31:18.236146Z",
     "iopub.status.idle": "2022-05-21T17:31:18.546989Z",
     "shell.execute_reply": "2022-05-21T17:31:18.545894Z"
    },
    "papermill": {
     "duration": 0.330015,
     "end_time": "2022-05-21T17:31:18.549413",
     "exception": false,
     "start_time": "2022-05-21T17:31:18.219398",
     "status": "completed"
    },
    "tags": []
   },
   "outputs": [
    {
     "data": {
      "text/plain": [
       "<AxesSubplot:>"
      ]
     },
     "execution_count": 6,
     "metadata": {},
     "output_type": "execute_result"
    },
    {
     "data": {
      "image/png": "[encoded data removed]",
      "text/plain": [
       "<Figure size 360x360 with 2 Axes>"
      ]
     },
     "metadata": {
      "needs_background": "light"
     },
     "output_type": "display_data"
    }
   ],
   "source": [
    "# I will use a Correlation Matrix - Seaborn Heatmap ton see how the different variables affect each other\n",
    "corrmat = store_data.corr()\n",
    "plt.subplots(figsize = (5,5))\n",
    "sns.heatmap(corrmat, square = True)"
   ]
  },
  {
   "cell_type": "markdown",
   "id": "0dee6338",
   "metadata": {
    "papermill": {
     "duration": 0.01604,
     "end_time": "2022-05-21T17:31:18.583005",
     "exception": false,
     "start_time": "2022-05-21T17:31:18.566965",
     "status": "completed"
    },
    "tags": []
   },
   "source": [
    "****From this we can see strong correlation between store area and items available- which makes sense. Here, I think what we can call this is a 'Collinearity'. I would do a plot to shot this more clearly.\n",
    "What is surprising is that there's too little correlation between items avilable and sales?! I think we might need to dig deeper into that. How about we use a scatter and line plot to investigate the relationship between these two variables?\n",
    "Another surprising observation is that there is no relationship between daily customer count and sales! I would never have thought. I would not be confirming that with a scatter plot though.****"
   ]
  },
  {
   "cell_type": "code",
   "execution_count": 7,
   "id": "7607e5ea",
   "metadata": {
    "execution": {
     "iopub.execute_input": "2022-05-21T17:31:18.617518Z",
     "iopub.status.busy": "2022-05-21T17:31:18.617243Z",
     "iopub.status.idle": "2022-05-21T17:31:18.887981Z",
     "shell.execute_reply": "2022-05-21T17:31:18.886547Z"
    },
    "papermill": {
     "duration": 0.293872,
     "end_time": "2022-05-21T17:31:18.893188",
     "exception": false,
     "start_time": "2022-05-21T17:31:18.599316",
     "status": "completed"
    },
    "tags": []
   },
   "outputs": [
    {
     "data": {
      "text/plain": [
       "[]"
      ]
     },
     "execution_count": 7,
     "metadata": {},
     "output_type": "execute_result"
    },
    {
     "data": {
      "image/png": "[encoded data removed]",
      "text/plain": [
       "<Figure size 864x576 with 1 Axes>"
      ]
     },
     "metadata": {
      "needs_background": "light"
     },
     "output_type": "display_data"
    }
   ],
   "source": [
    "#First, for items availabel and store area...\n",
    "\n",
    "x = store_data[['Items_Available']]\n",
    "y = store_data[['Store_Area']]\n",
    "_ = plt.figure(figsize=(12,8))  #increases the size of my plot\n",
    "_ = plt.scatter(x , y)\n",
    "_ = plt.xlabel('Items Available')\n",
    "_ = plt.ylabel('Sales')\n",
    "_ = plt.xticks(np.arange(0, 2800 , step = 200))  #gives a range for my x values\n",
    "_ = plt.yticks(np.arange(0 ,2400 , step = 200))\n",
    "plt.plot()"
   ]
  },
  {
   "cell_type": "markdown",
   "id": "7da05946",
   "metadata": {
    "papermill": {
     "duration": 0.017141,
     "end_time": "2022-05-21T17:31:18.927929",
     "exception": false,
     "start_time": "2022-05-21T17:31:18.910788",
     "status": "completed"
    },
    "tags": []
   },
   "source": [
    "****See! Collinearity.****"
   ]
  },
  {
   "cell_type": "code",
   "execution_count": 8,
   "id": "257ef5e9",
   "metadata": {
    "execution": {
     "iopub.execute_input": "2022-05-21T17:31:18.965043Z",
     "iopub.status.busy": "2022-05-21T17:31:18.964213Z",
     "iopub.status.idle": "2022-05-21T17:31:19.193023Z",
     "shell.execute_reply": "2022-05-21T17:31:19.191990Z"
    },
    "papermill": {
     "duration": 0.251009,
     "end_time": "2022-05-21T17:31:19.196446",
     "exception": false,
     "start_time": "2022-05-21T17:31:18.945437",
     "status": "completed"
    },
    "tags": []
   },
   "outputs": [
    {
     "data": {
      "text/plain": [
       "[]"
      ]
     },
     "execution_count": 8,
     "metadata": {},
     "output_type": "execute_result"
    },
    {
     "data": {
      "image/png": "[encoded data removed]",
      "text/plain": [
       "<Figure size 864x576 with 1 Axes>"
      ]
     },
     "metadata": {
      "needs_background": "light"
     },
     "output_type": "display_data"
    }
   ],
   "source": [
    "#For items available and sales...\n",
    "\n",
    "x = store_data[['Items_Available']]\n",
    "y = store_data[['Store_Sales']]\n",
    "_ = plt.figure(figsize=(12,8))  #increases the size of my plot\n",
    "_ = plt.scatter(x , y)\n",
    "_ = plt.xlabel('Items Available')\n",
    "_ = plt.ylabel('Sales')\n",
    "_ = plt.xticks(np.arange(0, 2800 , step = 200))  #gives a range for my x values\n",
    "_ = plt.yticks(np.arange(0 ,120000 , step = 20000), ['20K' , '40K' , '60K' , '80K' , '100K' , '120K']) \n",
    "# code above gives both range and labels for my y values\n",
    "plt.plot()"
   ]
  },
  {
   "cell_type": "markdown",
   "id": "d1512eb3",
   "metadata": {
    "papermill": {
     "duration": 0.019234,
     "end_time": "2022-05-21T17:31:19.237508",
     "exception": false,
     "start_time": "2022-05-21T17:31:19.218274",
     "status": "completed"
    },
    "tags": []
   },
   "source": [
    "****Okay, so there's actually no correlation. Oops. My heatmap was right.\n",
    "What I can make of this is that some stores stock up items that do very well in sales. All they need is to be able to match the demand for those products and then they are good. ****\n"
   ]
  }
 ],
 "metadata": {
  "kernelspec": {
   "display_name": "Python 3 (ipykernel)",
   "language": "python",
   "name": "python3"
  },
  "language_info": {
   "codemirror_mode": {
    "name": "ipython",
    "version": 3
   },
   "file_extension": ".py",
   "mimetype": "text/x-python",
   "name": "python",
   "nbconvert_exporter": "python",
   "pygments_lexer": "ipython3",
   "version": "3.9.12"
  },
  "papermill": {
   "default_parameters": {},
   "duration": 13.163164,
   "end_time": "2022-05-21T17:31:19.977661",
   "environment_variables": {},
   "exception": null,
   "input_path": "__notebook__.ipynb",
   "output_path": "__notebook__.ipynb",
   "parameters": {},
   "start_time": "2022-05-21T17:31:06.814497",
   "version": "2.3.4"
  }
 },
 "nbformat": 4,
 "nbformat_minor": 5
}
