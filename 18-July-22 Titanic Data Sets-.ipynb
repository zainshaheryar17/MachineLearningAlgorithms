{
 "cells": [
  {
   "cell_type": "code",
   "execution_count": 1,
   "id": "7b1db8f8",
   "metadata": {},
   "outputs": [],
   "source": [
    "import pandas as pd\n",
    "import numpy as np\n",
    "from sklearn.tree import DecisionTreeClassifier\n",
    "from sklearn.model_selection import train_test_split"
   ]
  },
  {
   "cell_type": "code",
   "execution_count": 2,
   "id": "64a4bdce",
   "metadata": {},
   "outputs": [],
   "source": [
    "df = pd.read_csv('E:/DATASETS/titanic_clean1.csv')"
   ]
  },
  {
   "cell_type": "code",
   "execution_count": 3,
   "id": "4019ef05",
   "metadata": {},
   "outputs": [
    {
     "data": {
      "text/plain": [
       "['Unnamed: 0',\n",
       " 'Pclass',\n",
       " 'Age',\n",
       " 'SibSp',\n",
       " 'Parch',\n",
       " 'Fare',\n",
       " 'Embarked',\n",
       " 'Title',\n",
       " 'Gen_male',\n",
       " 'Survived']"
      ]
     },
     "execution_count": 3,
     "metadata": {},
     "output_type": "execute_result"
    }
   ],
   "source": [
    "cols=list(df.columns)\n",
    "cols"
   ]
  },
  {
   "cell_type": "code",
   "execution_count": 6,
   "id": "1f11ecf5",
   "metadata": {},
   "outputs": [
    {
     "data": {
      "text/plain": [
       "(1309, 10)"
      ]
     },
     "execution_count": 6,
     "metadata": {},
     "output_type": "execute_result"
    }
   ],
   "source": [
    "df.shape"
   ]
  },
  {
   "cell_type": "code",
   "execution_count": 7,
   "id": "63c7f477",
   "metadata": {},
   "outputs": [
    {
     "data": {
      "text/html": [
       "<div>\n",
       "<style scoped>\n",
       "    .dataframe tbody tr th:only-of-type {\n",
       "        vertical-align: middle;\n",
       "    }\n",
       "\n",
       "    .dataframe tbody tr th {\n",
       "        vertical-align: top;\n",
       "    }\n",
       "\n",
       "    .dataframe thead th {\n",
       "        text-align: right;\n",
       "    }\n",
       "</style>\n",
       "<table border=\"1\" class=\"dataframe\">\n",
       "  <thead>\n",
       "    <tr style=\"text-align: right;\">\n",
       "      <th></th>\n",
       "      <th>Unnamed: 0</th>\n",
       "      <th>Pclass</th>\n",
       "      <th>Age</th>\n",
       "      <th>SibSp</th>\n",
       "      <th>Parch</th>\n",
       "      <th>Fare</th>\n",
       "      <th>Embarked</th>\n",
       "      <th>Title</th>\n",
       "      <th>Gen_male</th>\n",
       "      <th>Survived</th>\n",
       "    </tr>\n",
       "  </thead>\n",
       "  <tbody>\n",
       "    <tr>\n",
       "      <th>0</th>\n",
       "      <td>0</td>\n",
       "      <td>3</td>\n",
       "      <td>22.0</td>\n",
       "      <td>1</td>\n",
       "      <td>0</td>\n",
       "      <td>7.2500</td>\n",
       "      <td>0</td>\n",
       "      <td>0</td>\n",
       "      <td>1</td>\n",
       "      <td>0</td>\n",
       "    </tr>\n",
       "    <tr>\n",
       "      <th>1</th>\n",
       "      <td>1</td>\n",
       "      <td>1</td>\n",
       "      <td>38.0</td>\n",
       "      <td>1</td>\n",
       "      <td>0</td>\n",
       "      <td>71.2833</td>\n",
       "      <td>1</td>\n",
       "      <td>1</td>\n",
       "      <td>0</td>\n",
       "      <td>1</td>\n",
       "    </tr>\n",
       "    <tr>\n",
       "      <th>2</th>\n",
       "      <td>2</td>\n",
       "      <td>3</td>\n",
       "      <td>26.0</td>\n",
       "      <td>0</td>\n",
       "      <td>0</td>\n",
       "      <td>7.9250</td>\n",
       "      <td>0</td>\n",
       "      <td>2</td>\n",
       "      <td>0</td>\n",
       "      <td>1</td>\n",
       "    </tr>\n",
       "    <tr>\n",
       "      <th>3</th>\n",
       "      <td>3</td>\n",
       "      <td>1</td>\n",
       "      <td>35.0</td>\n",
       "      <td>1</td>\n",
       "      <td>0</td>\n",
       "      <td>53.1000</td>\n",
       "      <td>0</td>\n",
       "      <td>1</td>\n",
       "      <td>0</td>\n",
       "      <td>1</td>\n",
       "    </tr>\n",
       "    <tr>\n",
       "      <th>4</th>\n",
       "      <td>4</td>\n",
       "      <td>3</td>\n",
       "      <td>35.0</td>\n",
       "      <td>0</td>\n",
       "      <td>0</td>\n",
       "      <td>8.0500</td>\n",
       "      <td>0</td>\n",
       "      <td>0</td>\n",
       "      <td>1</td>\n",
       "      <td>0</td>\n",
       "    </tr>\n",
       "  </tbody>\n",
       "</table>\n",
       "</div>"
      ],
      "text/plain": [
       "   Unnamed: 0  Pclass   Age  SibSp  Parch     Fare  Embarked  Title  Gen_male  \\\n",
       "0           0       3  22.0      1      0   7.2500         0      0         1   \n",
       "1           1       1  38.0      1      0  71.2833         1      1         0   \n",
       "2           2       3  26.0      0      0   7.9250         0      2         0   \n",
       "3           3       1  35.0      1      0  53.1000         0      1         0   \n",
       "4           4       3  35.0      0      0   8.0500         0      0         1   \n",
       "\n",
       "   Survived  \n",
       "0         0  \n",
       "1         1  \n",
       "2         1  \n",
       "3         1  \n",
       "4         0  "
      ]
     },
     "execution_count": 7,
     "metadata": {},
     "output_type": "execute_result"
    }
   ],
   "source": [
    "df.head()"
   ]
  },
  {
   "cell_type": "code",
   "execution_count": 4,
   "id": "7fd6a376",
   "metadata": {},
   "outputs": [
    {
     "data": {
      "text/html": [
       "<div>\n",
       "<style scoped>\n",
       "    .dataframe tbody tr th:only-of-type {\n",
       "        vertical-align: middle;\n",
       "    }\n",
       "\n",
       "    .dataframe tbody tr th {\n",
       "        vertical-align: top;\n",
       "    }\n",
       "\n",
       "    .dataframe thead th {\n",
       "        text-align: right;\n",
       "    }\n",
       "</style>\n",
       "<table border=\"1\" class=\"dataframe\">\n",
       "  <thead>\n",
       "    <tr style=\"text-align: right;\">\n",
       "      <th></th>\n",
       "      <th>Unnamed: 0</th>\n",
       "      <th>Pclass</th>\n",
       "      <th>Age</th>\n",
       "      <th>SibSp</th>\n",
       "      <th>Parch</th>\n",
       "      <th>Fare</th>\n",
       "      <th>Embarked</th>\n",
       "      <th>Title</th>\n",
       "      <th>Gen_male</th>\n",
       "      <th>Survived</th>\n",
       "    </tr>\n",
       "  </thead>\n",
       "  <tbody>\n",
       "    <tr>\n",
       "      <th>1304</th>\n",
       "      <td>413</td>\n",
       "      <td>3</td>\n",
       "      <td>32.252151</td>\n",
       "      <td>0</td>\n",
       "      <td>0</td>\n",
       "      <td>8.0500</td>\n",
       "      <td>0</td>\n",
       "      <td>0</td>\n",
       "      <td>1</td>\n",
       "      <td>1</td>\n",
       "    </tr>\n",
       "    <tr>\n",
       "      <th>1305</th>\n",
       "      <td>414</td>\n",
       "      <td>1</td>\n",
       "      <td>39.000000</td>\n",
       "      <td>0</td>\n",
       "      <td>0</td>\n",
       "      <td>108.9000</td>\n",
       "      <td>1</td>\n",
       "      <td>1</td>\n",
       "      <td>0</td>\n",
       "      <td>0</td>\n",
       "    </tr>\n",
       "    <tr>\n",
       "      <th>1306</th>\n",
       "      <td>415</td>\n",
       "      <td>3</td>\n",
       "      <td>38.500000</td>\n",
       "      <td>0</td>\n",
       "      <td>0</td>\n",
       "      <td>7.2500</td>\n",
       "      <td>0</td>\n",
       "      <td>0</td>\n",
       "      <td>1</td>\n",
       "      <td>1</td>\n",
       "    </tr>\n",
       "    <tr>\n",
       "      <th>1307</th>\n",
       "      <td>416</td>\n",
       "      <td>3</td>\n",
       "      <td>32.252151</td>\n",
       "      <td>0</td>\n",
       "      <td>0</td>\n",
       "      <td>8.0500</td>\n",
       "      <td>0</td>\n",
       "      <td>0</td>\n",
       "      <td>1</td>\n",
       "      <td>1</td>\n",
       "    </tr>\n",
       "    <tr>\n",
       "      <th>1308</th>\n",
       "      <td>417</td>\n",
       "      <td>3</td>\n",
       "      <td>5.482642</td>\n",
       "      <td>1</td>\n",
       "      <td>1</td>\n",
       "      <td>22.3583</td>\n",
       "      <td>1</td>\n",
       "      <td>1</td>\n",
       "      <td>1</td>\n",
       "      <td>0</td>\n",
       "    </tr>\n",
       "  </tbody>\n",
       "</table>\n",
       "</div>"
      ],
      "text/plain": [
       "      Unnamed: 0  Pclass        Age  SibSp  Parch      Fare  Embarked  Title  \\\n",
       "1304         413       3  32.252151      0      0    8.0500         0      0   \n",
       "1305         414       1  39.000000      0      0  108.9000         1      1   \n",
       "1306         415       3  38.500000      0      0    7.2500         0      0   \n",
       "1307         416       3  32.252151      0      0    8.0500         0      0   \n",
       "1308         417       3   5.482642      1      1   22.3583         1      1   \n",
       "\n",
       "      Gen_male  Survived  \n",
       "1304         1         1  \n",
       "1305         0         0  \n",
       "1306         1         1  \n",
       "1307         1         1  \n",
       "1308         1         0  "
      ]
     },
     "execution_count": 4,
     "metadata": {},
     "output_type": "execute_result"
    }
   ],
   "source": [
    "df.tail()"
   ]
  },
  {
   "cell_type": "code",
   "execution_count": 5,
   "id": "8302d926",
   "metadata": {},
   "outputs": [
    {
     "data": {
      "text/plain": [
       "['Pclass', 'Age', 'SibSp', 'Parch', 'Fare', 'Embarked', 'Title', 'Gen_male']"
      ]
     },
     "execution_count": 5,
     "metadata": {},
     "output_type": "execute_result"
    }
   ],
   "source": [
    "feature_cols=cols[1:9]\n",
    "feature_cols"
   ]
  },
  {
   "cell_type": "code",
   "execution_count": 6,
   "id": "84ddaf4f",
   "metadata": {},
   "outputs": [],
   "source": [
    "X = df[feature_cols] #Feature\n",
    "y = df.Survived         #TragetVariable\n",
    "X_train,X_test,y_train,y_test, = train_test_split(X,y,test_size = 0.3, random_state = 1)"
   ]
  },
  {
   "cell_type": "code",
   "execution_count": 7,
   "id": "a74a73cb",
   "metadata": {},
   "outputs": [
    {
     "data": {
      "text/plain": [
       "(916, 8)"
      ]
     },
     "execution_count": 7,
     "metadata": {},
     "output_type": "execute_result"
    }
   ],
   "source": [
    "X_train.shape"
   ]
  },
  {
   "cell_type": "code",
   "execution_count": 8,
   "id": "6ef67b1a",
   "metadata": {},
   "outputs": [
    {
     "data": {
      "text/plain": [
       "916"
      ]
     },
     "execution_count": 8,
     "metadata": {},
     "output_type": "execute_result"
    }
   ],
   "source": [
    "len(y_train)"
   ]
  },
  {
   "cell_type": "code",
   "execution_count": 9,
   "id": "8a89ea7b",
   "metadata": {},
   "outputs": [
    {
     "data": {
      "text/plain": [
       "(393, 8)"
      ]
     },
     "execution_count": 9,
     "metadata": {},
     "output_type": "execute_result"
    }
   ],
   "source": [
    "X_test.shape"
   ]
  },
  {
   "cell_type": "code",
   "execution_count": 10,
   "id": "1d752986",
   "metadata": {},
   "outputs": [],
   "source": [
    "#Create Decision Tree Classifier Object\n",
    "clf = DecisionTreeClassifier(criterion=\"entropy\", max_depth=3)"
   ]
  },
  {
   "cell_type": "code",
   "execution_count": 11,
   "id": "9455d044",
   "metadata": {},
   "outputs": [],
   "source": [
    "#Train Classifier\n",
    "clf=clf.fit(X_train,y_train)"
   ]
  },
  {
   "cell_type": "code",
   "execution_count": 12,
   "id": "88646d5d",
   "metadata": {},
   "outputs": [
    {
     "data": {
      "text/plain": [
       "DecisionTreeClassifier(criterion='entropy', max_depth=3)"
      ]
     },
     "execution_count": 12,
     "metadata": {},
     "output_type": "execute_result"
    }
   ],
   "source": [
    "clf"
   ]
  },
  {
   "cell_type": "code",
   "execution_count": 13,
   "id": "d93bd1fc",
   "metadata": {},
   "outputs": [],
   "source": [
    "#predict the response for test dataset\n",
    "y_pred = clf.predict(X_test)"
   ]
  },
  {
   "cell_type": "code",
   "execution_count": 14,
   "id": "347e24b3",
   "metadata": {},
   "outputs": [
    {
     "data": {
      "text/plain": [
       "[Text(283.2923076923077, 570.7800000000001, 'X[6] <= 0.5\\nentropy = 0.974\\nsamples = 916\\nvalue = [544, 372]'),\n",
       " Text(103.01538461538462, 407.70000000000005, 'X[1] <= 16.5\\nentropy = 0.817\\nsamples = 532\\nvalue = [397, 135]'),\n",
       " Text(51.50769230769231, 244.62, 'entropy = 0.0\\nsamples = 15\\nvalue = [15, 0]'),\n",
       " Text(154.52307692307693, 244.62, 'X[4] <= 8.688\\nentropy = 0.828\\nsamples = 517\\nvalue = [382, 135]'),\n",
       " Text(103.01538461538462, 81.53999999999996, 'entropy = 0.724\\nsamples = 244\\nvalue = [195, 49]'),\n",
       " Text(206.03076923076924, 81.53999999999996, 'entropy = 0.899\\nsamples = 273\\nvalue = [187, 86]'),\n",
       " Text(463.5692307692308, 407.70000000000005, 'X[0] <= 2.5\\nentropy = 0.96\\nsamples = 384\\nvalue = [147, 237]'),\n",
       " Text(360.55384615384617, 244.62, 'X[1] <= 19.5\\nentropy = 0.801\\nsamples = 201\\nvalue = [49, 152]'),\n",
       " Text(309.04615384615386, 81.53999999999996, 'entropy = 0.391\\nsamples = 39\\nvalue = [3, 36]'),\n",
       " Text(412.0615384615385, 81.53999999999996, 'entropy = 0.861\\nsamples = 162\\nvalue = [46, 116]'),\n",
       " Text(566.5846153846154, 244.62, 'X[4] <= 24.808\\nentropy = 0.996\\nsamples = 183\\nvalue = [98, 85]'),\n",
       " Text(515.0769230769231, 81.53999999999996, 'entropy = 0.995\\nsamples = 146\\nvalue = [67, 79]'),\n",
       " Text(618.0923076923077, 81.53999999999996, 'entropy = 0.639\\nsamples = 37\\nvalue = [31, 6]')]"
      ]
     },
     "execution_count": 14,
     "metadata": {},
     "output_type": "execute_result"
    },
    {
     "data": {
      "image/png": "[encoded data removed]",
      "text/plain": [
       "<Figure size 864x864 with 1 Axes>"
      ]
     },
     "metadata": {
      "needs_background": "light"
     },
     "output_type": "display_data"
    }
   ],
   "source": [
    "import matplotlib.pyplot as plt\n",
    "from sklearn import tree\n",
    "plt.figure(figsize=(12,12))\n",
    "tree.plot_tree(clf)"
   ]
  },
  {
   "cell_type": "code",
   "execution_count": 15,
   "id": "24c86d77",
   "metadata": {},
   "outputs": [],
   "source": [
    "#calculate accuracy\n",
    "from sklearn import metrics"
   ]
  },
  {
   "cell_type": "code",
   "execution_count": 16,
   "id": "471526c9",
   "metadata": {},
   "outputs": [
    {
     "name": "stdout",
     "output_type": "stream",
     "text": [
      "Confusion Matrix\n",
      "[[169  46]\n",
      " [ 68 110]]\n"
     ]
    }
   ],
   "source": [
    "result=metrics.confusion_matrix(y_test,y_pred)\n",
    "print(\"Confusion Matrix\")\n",
    "print(result)"
   ]
  },
  {
   "cell_type": "code",
   "execution_count": 17,
   "id": "32d36413",
   "metadata": {},
   "outputs": [],
   "source": [
    "def plt1():\n",
    "    import seaborn as sns;sns.set()\n",
    "    c_mtrx=pd.crosstab(y_test,y_pred,rownames=['Actual'],colnames=['predicted'])\n",
    "    sns.heatmap(c_mtrx,annot=True)"
   ]
  },
  {
   "cell_type": "code",
   "execution_count": 18,
   "id": "83a25c95",
   "metadata": {},
   "outputs": [
    {
     "data": {
      "image/png": "[encoded data removed]",
      "text/plain": [
       "<Figure size 432x288 with 2 Axes>"
      ]
     },
     "metadata": {},
     "output_type": "display_data"
    }
   ],
   "source": [
    "plt1()"
   ]
  },
  {
   "cell_type": "code",
   "execution_count": 19,
   "id": "c442a1b4",
   "metadata": {},
   "outputs": [],
   "source": [
    "TP = result[1, 1]      \n",
    "TN = result[0, 0]\n",
    "FP = result[0, 1]\n",
    "FN = result[1, 0]"
   ]
  },
  {
   "cell_type": "code",
   "execution_count": 20,
   "id": "58fdf132",
   "metadata": {},
   "outputs": [],
   "source": [
    "def EvClsMdl(res):\n",
    "    print('Metrics computed from a confusion matrix')\n",
    "    print(\"Accuracy:\\t\", metrics.accuracy_score(y_test, y_pred))\n",
    "    print(\"Sensitivity:\\t\", metrics.recall_score(y_test, y_pred))\n",
    "    print(\"Specificity:\\t\",TN / (TN + FP))\n",
    "    print(\"Precision:\\t\", metrics.precision_score(y_test, y_pred))\n",
    "    print(\"Classification Eerror:\", 1 - metrics.accuracy_score(y_test, y_pred))\n",
    "    print(\"False_Positive_Rate:\", 1 - TN / (TN + FP))"
   ]
  },
  {
   "cell_type": "code",
   "execution_count": 21,
   "id": "7d4b8295",
   "metadata": {},
   "outputs": [
    {
     "name": "stdout",
     "output_type": "stream",
     "text": [
      "Metrics computed from a confusion matrix\n",
      "Accuracy:\t 0.7099236641221374\n",
      "Sensitivity:\t 0.6179775280898876\n",
      "Specificity:\t 0.786046511627907\n",
      "Precision:\t 0.7051282051282052\n",
      "Classification Eerror: 0.29007633587786263\n",
      "False_Positive_Rate: 0.21395348837209305\n"
     ]
    }
   ],
   "source": [
    "EvClsMdl(result)"
   ]
  },
  {
   "cell_type": "code",
   "execution_count": null,
   "id": "08761bf9",
   "metadata": {},
   "outputs": [],
   "source": []
  }
 ],
 "metadata": {
  "kernelspec": {
   "display_name": "Python 3 (ipykernel)",
   "language": "python",
   "name": "python3"
  },
  "language_info": {
   "codemirror_mode": {
    "name": "ipython",
    "version": 3
   },
   "file_extension": ".py",
   "mimetype": "text/x-python",
   "name": "python",
   "nbconvert_exporter": "python",
   "pygments_lexer": "ipython3",
   "version": "3.9.7"
  }
 },
 "nbformat": 4,
 "nbformat_minor": 5
}
