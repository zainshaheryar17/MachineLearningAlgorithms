{
 "cells": [
  {
   "cell_type": "code",
   "execution_count": 1,
   "metadata": {},
   "outputs": [],
   "source": [
    "import pandas as pd\n",
    "import matplotlib.pyplot as plt\n",
    "import matplotlib\n",
    "import numpy as np\n",
    "%matplotlib inline"
   ]
  },
  {
   "cell_type": "code",
   "execution_count": 2,
   "metadata": {},
   "outputs": [],
   "source": [
    "missingdf=pd.read_csv('D:\\BDA\\DataSets\\Missing.Value.Data.csv')"
   ]
  },
  {
   "cell_type": "code",
   "execution_count": 3,
   "metadata": {},
   "outputs": [
    {
     "data": {
      "text/plain": [
       "S.No              0\n",
       "Customer.ID       1\n",
       "Customer.Name     2\n",
       "Customer.Age      4\n",
       "Date              0\n",
       "Product.Bought    3\n",
       "Quantity          6\n",
       "Sales             7\n",
       "dtype: int64"
      ]
     },
     "execution_count": 3,
     "metadata": {},
     "output_type": "execute_result"
    }
   ],
   "source": [
    "missingdf.isnull().sum()"
   ]
  },
  {
   "cell_type": "code",
   "execution_count": 4,
   "metadata": {},
   "outputs": [
    {
     "data": {
      "text/plain": [
       "(28, 8)"
      ]
     },
     "execution_count": 4,
     "metadata": {},
     "output_type": "execute_result"
    }
   ],
   "source": [
    "missingdf.shape"
   ]
  },
  {
   "cell_type": "code",
   "execution_count": 6,
   "metadata": {},
   "outputs": [],
   "source": [
    "#HOW TO HANDLE MISSING VALUES\n",
    "#Removing  Rows with Missing Values"
   ]
  },
  {
   "cell_type": "code",
   "execution_count": 7,
   "metadata": {},
   "outputs": [],
   "source": [
    "missingdf=missingdf.dropna(axis=0)"
   ]
  },
  {
   "cell_type": "code",
   "execution_count": 8,
   "metadata": {},
   "outputs": [
    {
     "data": {
      "text/plain": [
       "S.No              0\n",
       "Customer.ID       0\n",
       "Customer.Name     0\n",
       "Customer.Age      0\n",
       "Date              0\n",
       "Product.Bought    0\n",
       "Quantity          0\n",
       "Sales             0\n",
       "dtype: int64"
      ]
     },
     "execution_count": 8,
     "metadata": {},
     "output_type": "execute_result"
    }
   ],
   "source": [
    "missingdf.isnull().sum()   #it shows that all missing values in data has been removed."
   ]
  },
  {
   "cell_type": "code",
   "execution_count": 9,
   "metadata": {},
   "outputs": [
    {
     "data": {
      "text/plain": [
       "(13, 8)"
      ]
     },
     "execution_count": 9,
     "metadata": {},
     "output_type": "execute_result"
    }
   ],
   "source": [
    "missingdf.shape"
   ]
  },
  {
   "cell_type": "code",
   "execution_count": 10,
   "metadata": {},
   "outputs": [],
   "source": [
    "missingdf=pd.read_csv('D:\\BDA\\DataSets\\Missing.Value.Data.csv')"
   ]
  },
  {
   "cell_type": "code",
   "execution_count": 11,
   "metadata": {},
   "outputs": [],
   "source": [
    "#How to remove specific rows with missing values\n",
    "#here, we are only removing those rows where data \n",
    "#is missing in column of \"Customer Name\""
   ]
  },
  {
   "cell_type": "code",
   "execution_count": 13,
   "metadata": {},
   "outputs": [],
   "source": [
    "missingdf = missingdf.dropna(axis=0, subset=['Customer.Name'])"
   ]
  },
  {
   "cell_type": "code",
   "execution_count": 14,
   "metadata": {},
   "outputs": [
    {
     "data": {
      "text/plain": [
       "S.No              0\n",
       "Customer.ID       0\n",
       "Customer.Name     0\n",
       "Customer.Age      3\n",
       "Date              0\n",
       "Product.Bought    2\n",
       "Quantity          6\n",
       "Sales             7\n",
       "dtype: int64"
      ]
     },
     "execution_count": 14,
     "metadata": {},
     "output_type": "execute_result"
    }
   ],
   "source": [
    "missingdf.isnull().sum()"
   ]
  },
  {
   "cell_type": "code",
   "execution_count": 15,
   "metadata": {},
   "outputs": [
    {
     "data": {
      "text/plain": [
       "(26, 8)"
      ]
     },
     "execution_count": 15,
     "metadata": {},
     "output_type": "execute_result"
    }
   ],
   "source": [
    "missingdf.shape"
   ]
  },
  {
   "cell_type": "code",
   "execution_count": 16,
   "metadata": {},
   "outputs": [],
   "source": [
    "#How to fill missing values\n",
    "#the process is known as IMPUTATION"
   ]
  },
  {
   "cell_type": "code",
   "execution_count": 17,
   "metadata": {},
   "outputs": [],
   "source": [
    "from sklearn.impute import SimpleImputer"
   ]
  },
  {
   "cell_type": "code",
   "execution_count": 18,
   "metadata": {},
   "outputs": [],
   "source": [
    "#lets create a separate data frame for Mean Imputation\n",
    "#WHat is Mean Imputation? Filling missing values by\n",
    "#calculating Mean and placing it in missing places"
   ]
  },
  {
   "cell_type": "code",
   "execution_count": 19,
   "metadata": {},
   "outputs": [],
   "source": [
    "missingdf_mean = missingdf.copy(deep=True)"
   ]
  },
  {
   "cell_type": "code",
   "execution_count": 20,
   "metadata": {},
   "outputs": [
    {
     "data": {
      "text/plain": [
       "(26, 8)"
      ]
     },
     "execution_count": 20,
     "metadata": {},
     "output_type": "execute_result"
    }
   ],
   "source": [
    "missingdf_mean.shape"
   ]
  },
  {
   "cell_type": "code",
   "execution_count": 21,
   "metadata": {},
   "outputs": [],
   "source": [
    "mean_imputation=SimpleImputer(strategy='mean')"
   ]
  },
  {
   "cell_type": "code",
   "execution_count": 22,
   "metadata": {},
   "outputs": [],
   "source": [
    "#for calculating mean, consider only those columns with numeric values."
   ]
  },
  {
   "cell_type": "code",
   "execution_count": 23,
   "metadata": {},
   "outputs": [],
   "source": [
    "missingdf_mean[['Customer.Age', 'Sales','Quantity']] = \\\n",
    "mean_imputation.fit_transform(missingdf_mean[['Customer.Age','Sales', 'Quantity']])"
   ]
  },
  {
   "cell_type": "code",
   "execution_count": 24,
   "metadata": {},
   "outputs": [
    {
     "data": {
      "text/html": [
       "<div>\n",
       "<style scoped>\n",
       "    .dataframe tbody tr th:only-of-type {\n",
       "        vertical-align: middle;\n",
       "    }\n",
       "\n",
       "    .dataframe tbody tr th {\n",
       "        vertical-align: top;\n",
       "    }\n",
       "\n",
       "    .dataframe thead th {\n",
       "        text-align: right;\n",
       "    }\n",
       "</style>\n",
       "<table border=\"1\" class=\"dataframe\">\n",
       "  <thead>\n",
       "    <tr style=\"text-align: right;\">\n",
       "      <th></th>\n",
       "      <th>S.No</th>\n",
       "      <th>Customer.ID</th>\n",
       "      <th>Customer.Name</th>\n",
       "      <th>Customer.Age</th>\n",
       "      <th>Date</th>\n",
       "      <th>Product.Bought</th>\n",
       "      <th>Quantity</th>\n",
       "      <th>Sales</th>\n",
       "    </tr>\n",
       "  </thead>\n",
       "  <tbody>\n",
       "    <tr>\n",
       "      <th>0</th>\n",
       "      <td>1</td>\n",
       "      <td>100.0</td>\n",
       "      <td>Ahmed</td>\n",
       "      <td>23.000000</td>\n",
       "      <td>12/10/2019</td>\n",
       "      <td>Water Bottle</td>\n",
       "      <td>2.0</td>\n",
       "      <td>945.000000</td>\n",
       "    </tr>\n",
       "    <tr>\n",
       "      <th>1</th>\n",
       "      <td>2</td>\n",
       "      <td>101.0</td>\n",
       "      <td>Ahmed</td>\n",
       "      <td>23.000000</td>\n",
       "      <td>13/10/2019</td>\n",
       "      <td>Power Switch</td>\n",
       "      <td>1.0</td>\n",
       "      <td>324.000000</td>\n",
       "    </tr>\n",
       "    <tr>\n",
       "      <th>2</th>\n",
       "      <td>3</td>\n",
       "      <td>102.0</td>\n",
       "      <td>Saim</td>\n",
       "      <td>16.000000</td>\n",
       "      <td>14/10/2019</td>\n",
       "      <td>Fridge</td>\n",
       "      <td>1.0</td>\n",
       "      <td>45000.000000</td>\n",
       "    </tr>\n",
       "    <tr>\n",
       "      <th>3</th>\n",
       "      <td>4</td>\n",
       "      <td>103.0</td>\n",
       "      <td>Farhan</td>\n",
       "      <td>34.000000</td>\n",
       "      <td>15/10/2019</td>\n",
       "      <td>Mobile</td>\n",
       "      <td>1.0</td>\n",
       "      <td>33000.000000</td>\n",
       "    </tr>\n",
       "    <tr>\n",
       "      <th>4</th>\n",
       "      <td>5</td>\n",
       "      <td>104.0</td>\n",
       "      <td>Imran</td>\n",
       "      <td>45.000000</td>\n",
       "      <td>16/10/2019</td>\n",
       "      <td>Table</td>\n",
       "      <td>1.8</td>\n",
       "      <td>17900.000000</td>\n",
       "    </tr>\n",
       "    <tr>\n",
       "      <th>5</th>\n",
       "      <td>6</td>\n",
       "      <td>105.0</td>\n",
       "      <td>Farrukh</td>\n",
       "      <td>56.000000</td>\n",
       "      <td>17/10/2019</td>\n",
       "      <td>Stickers</td>\n",
       "      <td>2.0</td>\n",
       "      <td>24.000000</td>\n",
       "    </tr>\n",
       "    <tr>\n",
       "      <th>6</th>\n",
       "      <td>7</td>\n",
       "      <td>106.0</td>\n",
       "      <td>Bismah</td>\n",
       "      <td>33.000000</td>\n",
       "      <td>18/10/2019</td>\n",
       "      <td>Stickers</td>\n",
       "      <td>1.8</td>\n",
       "      <td>10075.842105</td>\n",
       "    </tr>\n",
       "    <tr>\n",
       "      <th>7</th>\n",
       "      <td>8</td>\n",
       "      <td>107.0</td>\n",
       "      <td>Ayesha</td>\n",
       "      <td>31.000000</td>\n",
       "      <td>19/10/2019</td>\n",
       "      <td>Water Bottle</td>\n",
       "      <td>1.0</td>\n",
       "      <td>10075.842105</td>\n",
       "    </tr>\n",
       "    <tr>\n",
       "      <th>8</th>\n",
       "      <td>9</td>\n",
       "      <td>108.0</td>\n",
       "      <td>Areeba</td>\n",
       "      <td>27.000000</td>\n",
       "      <td>20/10/2019</td>\n",
       "      <td>Milk</td>\n",
       "      <td>2.0</td>\n",
       "      <td>453.000000</td>\n",
       "    </tr>\n",
       "    <tr>\n",
       "      <th>9</th>\n",
       "      <td>10</td>\n",
       "      <td>109.0</td>\n",
       "      <td>Hashir</td>\n",
       "      <td>78.000000</td>\n",
       "      <td>21/10/2019</td>\n",
       "      <td>Milk</td>\n",
       "      <td>2.0</td>\n",
       "      <td>433.000000</td>\n",
       "    </tr>\n",
       "    <tr>\n",
       "      <th>10</th>\n",
       "      <td>11</td>\n",
       "      <td>110.0</td>\n",
       "      <td>Qasim</td>\n",
       "      <td>86.000000</td>\n",
       "      <td>22/10/2019</td>\n",
       "      <td>Fruits</td>\n",
       "      <td>0.0</td>\n",
       "      <td>762.000000</td>\n",
       "    </tr>\n",
       "    <tr>\n",
       "      <th>11</th>\n",
       "      <td>12</td>\n",
       "      <td>111.0</td>\n",
       "      <td>Fatima</td>\n",
       "      <td>41.000000</td>\n",
       "      <td>23/10/2019</td>\n",
       "      <td>Power Switch</td>\n",
       "      <td>3.0</td>\n",
       "      <td>1390.000000</td>\n",
       "    </tr>\n",
       "    <tr>\n",
       "      <th>12</th>\n",
       "      <td>13</td>\n",
       "      <td>112.0</td>\n",
       "      <td>Junaid</td>\n",
       "      <td>22.000000</td>\n",
       "      <td>24/10/2019</td>\n",
       "      <td>Fruits</td>\n",
       "      <td>3.0</td>\n",
       "      <td>10075.842105</td>\n",
       "    </tr>\n",
       "    <tr>\n",
       "      <th>13</th>\n",
       "      <td>14</td>\n",
       "      <td>113.0</td>\n",
       "      <td>Ismail</td>\n",
       "      <td>21.000000</td>\n",
       "      <td>25/10/2019</td>\n",
       "      <td>Fruits</td>\n",
       "      <td>2.0</td>\n",
       "      <td>10075.842105</td>\n",
       "    </tr>\n",
       "    <tr>\n",
       "      <th>14</th>\n",
       "      <td>15</td>\n",
       "      <td>114.0</td>\n",
       "      <td>Ibraheem</td>\n",
       "      <td>20.000000</td>\n",
       "      <td>26/10/2019</td>\n",
       "      <td>Laptop</td>\n",
       "      <td>1.0</td>\n",
       "      <td>42222.000000</td>\n",
       "    </tr>\n",
       "    <tr>\n",
       "      <th>15</th>\n",
       "      <td>16</td>\n",
       "      <td>115.0</td>\n",
       "      <td>Farhan</td>\n",
       "      <td>34.000000</td>\n",
       "      <td>27/10/2019</td>\n",
       "      <td>Laptop</td>\n",
       "      <td>1.8</td>\n",
       "      <td>10075.842105</td>\n",
       "    </tr>\n",
       "    <tr>\n",
       "      <th>16</th>\n",
       "      <td>17</td>\n",
       "      <td>116.0</td>\n",
       "      <td>Areeba</td>\n",
       "      <td>39.217391</td>\n",
       "      <td>28/10/2019</td>\n",
       "      <td>NaN</td>\n",
       "      <td>2.0</td>\n",
       "      <td>4232.000000</td>\n",
       "    </tr>\n",
       "    <tr>\n",
       "      <th>17</th>\n",
       "      <td>18</td>\n",
       "      <td>102.0</td>\n",
       "      <td>Saim</td>\n",
       "      <td>39.217391</td>\n",
       "      <td>29/10/2019</td>\n",
       "      <td>Water Bottle</td>\n",
       "      <td>1.0</td>\n",
       "      <td>111.000000</td>\n",
       "    </tr>\n",
       "    <tr>\n",
       "      <th>18</th>\n",
       "      <td>19</td>\n",
       "      <td>102.0</td>\n",
       "      <td>Saim</td>\n",
       "      <td>39.217391</td>\n",
       "      <td>30/10/2019</td>\n",
       "      <td>NaN</td>\n",
       "      <td>5.0</td>\n",
       "      <td>10003.000000</td>\n",
       "    </tr>\n",
       "    <tr>\n",
       "      <th>21</th>\n",
       "      <td>22</td>\n",
       "      <td>121.0</td>\n",
       "      <td>Ismail</td>\n",
       "      <td>29.000000</td>\n",
       "      <td>02/11/2019</td>\n",
       "      <td>Table</td>\n",
       "      <td>1.8</td>\n",
       "      <td>18000.000000</td>\n",
       "    </tr>\n",
       "    <tr>\n",
       "      <th>22</th>\n",
       "      <td>23</td>\n",
       "      <td>122.0</td>\n",
       "      <td>Ahmed</td>\n",
       "      <td>43.000000</td>\n",
       "      <td>03/11/2019</td>\n",
       "      <td>Clothes</td>\n",
       "      <td>2.0</td>\n",
       "      <td>3210.000000</td>\n",
       "    </tr>\n",
       "    <tr>\n",
       "      <th>23</th>\n",
       "      <td>24</td>\n",
       "      <td>123.0</td>\n",
       "      <td>Farhan</td>\n",
       "      <td>33.000000</td>\n",
       "      <td>04/11/2019</td>\n",
       "      <td>Power Switch</td>\n",
       "      <td>1.8</td>\n",
       "      <td>10075.842105</td>\n",
       "    </tr>\n",
       "    <tr>\n",
       "      <th>24</th>\n",
       "      <td>25</td>\n",
       "      <td>124.0</td>\n",
       "      <td>Amjad</td>\n",
       "      <td>11.000000</td>\n",
       "      <td>05/11/2019</td>\n",
       "      <td>Mobile</td>\n",
       "      <td>1.8</td>\n",
       "      <td>9000.000000</td>\n",
       "    </tr>\n",
       "    <tr>\n",
       "      <th>25</th>\n",
       "      <td>26</td>\n",
       "      <td>125.0</td>\n",
       "      <td>Farrukh</td>\n",
       "      <td>32.000000</td>\n",
       "      <td>06/11/2019</td>\n",
       "      <td>Clothes</td>\n",
       "      <td>1.0</td>\n",
       "      <td>10075.842105</td>\n",
       "    </tr>\n",
       "    <tr>\n",
       "      <th>26</th>\n",
       "      <td>27</td>\n",
       "      <td>126.0</td>\n",
       "      <td>Hashir</td>\n",
       "      <td>78.000000</td>\n",
       "      <td>07/11/2019</td>\n",
       "      <td>Water Bottle</td>\n",
       "      <td>2.0</td>\n",
       "      <td>1032.000000</td>\n",
       "    </tr>\n",
       "    <tr>\n",
       "      <th>27</th>\n",
       "      <td>28</td>\n",
       "      <td>127.0</td>\n",
       "      <td>Qasim</td>\n",
       "      <td>86.000000</td>\n",
       "      <td>08/11/2019</td>\n",
       "      <td>Rug</td>\n",
       "      <td>2.0</td>\n",
       "      <td>3400.000000</td>\n",
       "    </tr>\n",
       "  </tbody>\n",
       "</table>\n",
       "</div>"
      ],
      "text/plain": [
       "    S.No  Customer.ID Customer.Name  Customer.Age        Date Product.Bought  \\\n",
       "0      1        100.0         Ahmed     23.000000  12/10/2019   Water Bottle   \n",
       "1      2        101.0         Ahmed     23.000000  13/10/2019   Power Switch   \n",
       "2      3        102.0          Saim     16.000000  14/10/2019         Fridge   \n",
       "3      4        103.0        Farhan     34.000000  15/10/2019         Mobile   \n",
       "4      5        104.0         Imran     45.000000  16/10/2019          Table   \n",
       "5      6        105.0       Farrukh     56.000000  17/10/2019       Stickers   \n",
       "6      7        106.0        Bismah     33.000000  18/10/2019       Stickers   \n",
       "7      8        107.0        Ayesha     31.000000  19/10/2019   Water Bottle   \n",
       "8      9        108.0        Areeba     27.000000  20/10/2019           Milk   \n",
       "9     10        109.0        Hashir     78.000000  21/10/2019           Milk   \n",
       "10    11        110.0         Qasim     86.000000  22/10/2019         Fruits   \n",
       "11    12        111.0        Fatima     41.000000  23/10/2019   Power Switch   \n",
       "12    13        112.0        Junaid     22.000000  24/10/2019         Fruits   \n",
       "13    14        113.0        Ismail     21.000000  25/10/2019         Fruits   \n",
       "14    15        114.0      Ibraheem     20.000000  26/10/2019         Laptop   \n",
       "15    16        115.0        Farhan     34.000000  27/10/2019         Laptop   \n",
       "16    17        116.0        Areeba     39.217391  28/10/2019            NaN   \n",
       "17    18        102.0          Saim     39.217391  29/10/2019   Water Bottle   \n",
       "18    19        102.0          Saim     39.217391  30/10/2019            NaN   \n",
       "21    22        121.0        Ismail     29.000000  02/11/2019          Table   \n",
       "22    23        122.0         Ahmed     43.000000  03/11/2019        Clothes   \n",
       "23    24        123.0        Farhan     33.000000  04/11/2019   Power Switch   \n",
       "24    25        124.0         Amjad     11.000000  05/11/2019         Mobile   \n",
       "25    26        125.0       Farrukh     32.000000  06/11/2019        Clothes   \n",
       "26    27        126.0        Hashir     78.000000  07/11/2019   Water Bottle   \n",
       "27    28        127.0         Qasim     86.000000  08/11/2019            Rug   \n",
       "\n",
       "    Quantity         Sales  \n",
       "0        2.0    945.000000  \n",
       "1        1.0    324.000000  \n",
       "2        1.0  45000.000000  \n",
       "3        1.0  33000.000000  \n",
       "4        1.8  17900.000000  \n",
       "5        2.0     24.000000  \n",
       "6        1.8  10075.842105  \n",
       "7        1.0  10075.842105  \n",
       "8        2.0    453.000000  \n",
       "9        2.0    433.000000  \n",
       "10       0.0    762.000000  \n",
       "11       3.0   1390.000000  \n",
       "12       3.0  10075.842105  \n",
       "13       2.0  10075.842105  \n",
       "14       1.0  42222.000000  \n",
       "15       1.8  10075.842105  \n",
       "16       2.0   4232.000000  \n",
       "17       1.0    111.000000  \n",
       "18       5.0  10003.000000  \n",
       "21       1.8  18000.000000  \n",
       "22       2.0   3210.000000  \n",
       "23       1.8  10075.842105  \n",
       "24       1.8   9000.000000  \n",
       "25       1.0  10075.842105  \n",
       "26       2.0   1032.000000  \n",
       "27       2.0   3400.000000  "
      ]
     },
     "execution_count": 24,
     "metadata": {},
     "output_type": "execute_result"
    }
   ],
   "source": [
    "missingdf_mean"
   ]
  },
  {
   "cell_type": "code",
   "execution_count": 25,
   "metadata": {},
   "outputs": [],
   "source": [
    "#comparing sales vs quantity"
   ]
  },
  {
   "cell_type": "code",
   "execution_count": 27,
   "metadata": {},
   "outputs": [
    {
     "data": {
      "text/plain": [
       "<AxesSubplot:xlabel='Sales', ylabel='Quantity'>"
      ]
     },
     "execution_count": 27,
     "metadata": {},
     "output_type": "execute_result"
    },
    {
     "data": {
      "image/png": "[encoded data removed]",
      "text/plain": [
       "<Figure size 432x288 with 1 Axes>"
      ]
     },
     "metadata": {
      "needs_background": "light"
     },
     "output_type": "display_data"
    }
   ],
   "source": [
    "missingdf_mean.plot(x='Sales', y='Quantity', kind='scatter', alpha=0.5, \\\n",
    "                    cmap='rainbow')"
   ]
  },
  {
   "cell_type": "code",
   "execution_count": 28,
   "metadata": {},
   "outputs": [],
   "source": [
    "nulls = missingdf['Sales'].isnull() | missingdf['Quantity'].isnull()"
   ]
  },
  {
   "cell_type": "code",
   "execution_count": 29,
   "metadata": {},
   "outputs": [
    {
     "data": {
      "text/plain": [
       "0     False\n",
       "1     False\n",
       "2     False\n",
       "3     False\n",
       "4      True\n",
       "5     False\n",
       "6      True\n",
       "7      True\n",
       "8     False\n",
       "9     False\n",
       "10    False\n",
       "11    False\n",
       "12     True\n",
       "13     True\n",
       "14    False\n",
       "15     True\n",
       "16    False\n",
       "17    False\n",
       "18    False\n",
       "21     True\n",
       "22    False\n",
       "23     True\n",
       "24     True\n",
       "25     True\n",
       "26    False\n",
       "27    False\n",
       "dtype: bool"
      ]
     },
     "execution_count": 29,
     "metadata": {},
     "output_type": "execute_result"
    }
   ],
   "source": [
    "nulls"
   ]
  },
  {
   "cell_type": "code",
   "execution_count": 30,
   "metadata": {},
   "outputs": [
    {
     "data": {
      "text/plain": [
       "<AxesSubplot:xlabel='Sales', ylabel='Quantity'>"
      ]
     },
     "execution_count": 30,
     "metadata": {},
     "output_type": "execute_result"
    },
    {
     "data": {
      "image/png": "[encoded data removed]",
      "text/plain": [
       "<Figure size 432x288 with 2 Axes>"
      ]
     },
     "metadata": {
      "needs_background": "light"
     },
     "output_type": "display_data"
    }
   ],
   "source": [
    "missingdf_mean.plot(x='Sales', y='Quantity', kind='scatter', alpha=0.5,\\\n",
    "                   c=nulls, cmap='rainbow')"
   ]
  },
  {
   "cell_type": "code",
   "execution_count": null,
   "metadata": {},
   "outputs": [],
   "source": []
  }
 ],
 "metadata": {
  "kernelspec": {
   "display_name": "Python 3",
   "language": "python",
   "name": "python3"
  },
  "language_info": {
   "codemirror_mode": {
    "name": "ipython",
    "version": 3
   },
   "file_extension": ".py",
   "mimetype": "text/x-python",
   "name": "python",
   "nbconvert_exporter": "python",
   "pygments_lexer": "ipython3",
   "version": "3.8.5"
  }
 },
 "nbformat": 4,
 "nbformat_minor": 4
}
