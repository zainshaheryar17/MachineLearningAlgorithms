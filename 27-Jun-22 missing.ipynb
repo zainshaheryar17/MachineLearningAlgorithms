{
 "cells": [
  {
   "cell_type": "code",
   "execution_count": 1,
   "metadata": {},
   "outputs": [],
   "source": [
    "#importing the basic libraries\n",
    "import pandas as pd\n",
    "import numpy as np\n",
    "import matplotlib.pyplot as plt\n",
    "%matplotlib inline"
   ]
  },
  {
   "cell_type": "code",
   "execution_count": 2,
   "metadata": {},
   "outputs": [],
   "source": [
    "#read the CSV file\n",
    "missingdf = pd.read_csv(\"E:/DATA SETS/Missing.Value.Data.csv\")"
   ]
  },
  {
   "cell_type": "code",
   "execution_count": 3,
   "metadata": {},
   "outputs": [
    {
     "data": {
      "text/plain": [
       "S.No              0\n",
       "Customer.ID       1\n",
       "Customer.Name     2\n",
       "Customer.Age      4\n",
       "Date              0\n",
       "Product.Bought    3\n",
       "Quantity          6\n",
       "Sales             7\n",
       "dtype: int64"
      ]
     },
     "execution_count": 3,
     "metadata": {},
     "output_type": "execute_result"
    }
   ],
   "source": [
    "#we remove missings first. Let's see how many missings we have\n",
    "missingdf.isnull().sum()"
   ]
  },
  {
   "cell_type": "code",
   "execution_count": 4,
   "metadata": {},
   "outputs": [
    {
     "data": {
      "text/plain": [
       "(28, 8)"
      ]
     },
     "execution_count": 4,
     "metadata": {},
     "output_type": "execute_result"
    }
   ],
   "source": [
    "missingdf.shape"
   ]
  },
  {
   "cell_type": "markdown",
   "metadata": {},
   "source": [
    "## Handling Missing Values"
   ]
  },
  {
   "cell_type": "markdown",
   "metadata": {},
   "source": [
    "### Dropping Entire Rows"
   ]
  },
  {
   "cell_type": "markdown",
   "metadata": {},
   "source": [
    "If the missing values are not that much (just a few rows), we can drop them. However, this is done for MCAR, which we have not been able to prove from the above diagrams\n",
    "\n",
    "Still, we show the dropping functionality below for an example"
   ]
  },
  {
   "cell_type": "code",
   "execution_count": 5,
   "metadata": {},
   "outputs": [],
   "source": [
    "#drops all the missing values from the dataframe\n",
    "missingdf = missingdf.dropna(axis=0)"
   ]
  },
  {
   "cell_type": "code",
   "execution_count": 6,
   "metadata": {},
   "outputs": [
    {
     "data": {
      "text/plain": [
       "S.No              0\n",
       "Customer.ID       0\n",
       "Customer.Name     0\n",
       "Customer.Age      0\n",
       "Date              0\n",
       "Product.Bought    0\n",
       "Quantity          0\n",
       "Sales             0\n",
       "dtype: int64"
      ]
     },
     "execution_count": 6,
     "metadata": {},
     "output_type": "execute_result"
    }
   ],
   "source": [
    "#check\n",
    "missingdf.isnull().sum()"
   ]
  },
  {
   "cell_type": "code",
   "execution_count": 7,
   "metadata": {},
   "outputs": [
    {
     "data": {
      "text/plain": [
       "(13, 8)"
      ]
     },
     "execution_count": 7,
     "metadata": {},
     "output_type": "execute_result"
    }
   ],
   "source": [
    "missingdf.shape"
   ]
  },
  {
   "cell_type": "code",
   "execution_count": 8,
   "metadata": {},
   "outputs": [],
   "source": [
    "#read the CSV file again\n",
    "missingdf = pd.read_csv(\"E:/DATA SETS/Missing.Value.Data.csv\")"
   ]
  },
  {
   "cell_type": "code",
   "execution_count": 9,
   "metadata": {},
   "outputs": [],
   "source": [
    "#if you want to delete rows for one of the specified variable, say Customer.Name\n",
    "missingdf = missingdf.dropna(axis=0, subset=['Customer.Name'])"
   ]
  },
  {
   "cell_type": "code",
   "execution_count": 10,
   "metadata": {},
   "outputs": [
    {
     "data": {
      "text/plain": [
       "S.No              0\n",
       "Customer.ID       0\n",
       "Customer.Name     0\n",
       "Customer.Age      3\n",
       "Date              0\n",
       "Product.Bought    2\n",
       "Quantity          6\n",
       "Sales             7\n",
       "dtype: int64"
      ]
     },
     "execution_count": 10,
     "metadata": {},
     "output_type": "execute_result"
    }
   ],
   "source": [
    "#check\n",
    "missingdf.isnull().sum()"
   ]
  },
  {
   "cell_type": "code",
   "execution_count": 11,
   "metadata": {},
   "outputs": [
    {
     "data": {
      "text/plain": [
       "(26, 8)"
      ]
     },
     "execution_count": 11,
     "metadata": {},
     "output_type": "execute_result"
    }
   ],
   "source": [
    "#shape has also changed because the 2 rows of Customer.Name missing values have been deleted\n",
    "missingdf.shape"
   ]
  },
  {
   "cell_type": "markdown",
   "metadata": {},
   "source": [
    "### Imputation"
   ]
  },
  {
   "cell_type": "markdown",
   "metadata": {},
   "source": [
    "Explanation: We have imprted Simple Imputer from sklearn and we are trying to fill the null values using mean stretagy which will basically fill all null values with the average of that column"
   ]
  },
  {
   "cell_type": "code",
   "execution_count": 12,
   "metadata": {},
   "outputs": [],
   "source": [
    "from sklearn.impute import SimpleImputer\n",
    "\n",
    "#create a separate data frame for mean imputation\n",
    "missingdf_mean = missingdf.copy(deep=True)\n",
    "\n"
   ]
  },
  {
   "cell_type": "code",
   "execution_count": 13,
   "metadata": {},
   "outputs": [
    {
     "data": {
      "text/plain": [
       "(26, 8)"
      ]
     },
     "execution_count": 13,
     "metadata": {},
     "output_type": "execute_result"
    }
   ],
   "source": [
    "missingdf_mean.shape"
   ]
  },
  {
   "cell_type": "code",
   "execution_count": 14,
   "metadata": {},
   "outputs": [],
   "source": [
    "mean_imputation = SimpleImputer(strategy='mean')\n",
    "\n",
    "#take only columns where mean imputation matters, i.e., numerical columns\n",
    "missingdf_mean[['Customer.Age','Sales','Quantity']] = mean_imputation.fit_transform(missingdf_mean[['Customer.Age','Sales','Quantity']])"
   ]
  },
  {
   "cell_type": "code",
   "execution_count": 15,
   "metadata": {},
   "outputs": [
    {
     "data": {
      "text/plain": [
       "S.No              0\n",
       "Customer.ID       0\n",
       "Customer.Name     0\n",
       "Customer.Age      0\n",
       "Date              0\n",
       "Product.Bought    2\n",
       "Quantity          0\n",
       "Sales             0\n",
       "dtype: int64"
      ]
     },
     "execution_count": 15,
     "metadata": {},
     "output_type": "execute_result"
    }
   ],
   "source": [
    "missingdf_mean.isnull().sum()"
   ]
  },
  {
   "cell_type": "code",
   "execution_count": 14,
   "metadata": {},
   "outputs": [
    {
     "data": {
      "text/html": [
       "<div>\n",
       "<style scoped>\n",
       "    .dataframe tbody tr th:only-of-type {\n",
       "        vertical-align: middle;\n",
       "    }\n",
       "\n",
       "    .dataframe tbody tr th {\n",
       "        vertical-align: top;\n",
       "    }\n",
       "\n",
       "    .dataframe thead th {\n",
       "        text-align: right;\n",
       "    }\n",
       "</style>\n",
       "<table border=\"1\" class=\"dataframe\">\n",
       "  <thead>\n",
       "    <tr style=\"text-align: right;\">\n",
       "      <th></th>\n",
       "      <th>S.No</th>\n",
       "      <th>Customer.ID</th>\n",
       "      <th>Customer.Name</th>\n",
       "      <th>Customer.Age</th>\n",
       "      <th>Date</th>\n",
       "      <th>Product.Bought</th>\n",
       "      <th>Quantity</th>\n",
       "      <th>Sales</th>\n",
       "    </tr>\n",
       "  </thead>\n",
       "  <tbody>\n",
       "    <tr>\n",
       "      <th>0</th>\n",
       "      <td>1</td>\n",
       "      <td>100.0</td>\n",
       "      <td>Ahmed</td>\n",
       "      <td>23.0</td>\n",
       "      <td>12/10/2019</td>\n",
       "      <td>Water Bottle</td>\n",
       "      <td>2.0</td>\n",
       "      <td>945.0</td>\n",
       "    </tr>\n",
       "    <tr>\n",
       "      <th>1</th>\n",
       "      <td>2</td>\n",
       "      <td>101.0</td>\n",
       "      <td>Ahmed</td>\n",
       "      <td>23.0</td>\n",
       "      <td>13/10/2019</td>\n",
       "      <td>Power Switch</td>\n",
       "      <td>1.0</td>\n",
       "      <td>324.0</td>\n",
       "    </tr>\n",
       "    <tr>\n",
       "      <th>2</th>\n",
       "      <td>3</td>\n",
       "      <td>102.0</td>\n",
       "      <td>Saim</td>\n",
       "      <td>16.0</td>\n",
       "      <td>14/10/2019</td>\n",
       "      <td>Fridge</td>\n",
       "      <td>1.0</td>\n",
       "      <td>45000.0</td>\n",
       "    </tr>\n",
       "    <tr>\n",
       "      <th>3</th>\n",
       "      <td>4</td>\n",
       "      <td>103.0</td>\n",
       "      <td>Farhan</td>\n",
       "      <td>34.0</td>\n",
       "      <td>15/10/2019</td>\n",
       "      <td>Mobile</td>\n",
       "      <td>1.0</td>\n",
       "      <td>33000.0</td>\n",
       "    </tr>\n",
       "    <tr>\n",
       "      <th>4</th>\n",
       "      <td>5</td>\n",
       "      <td>104.0</td>\n",
       "      <td>Imran</td>\n",
       "      <td>45.0</td>\n",
       "      <td>16/10/2019</td>\n",
       "      <td>Table</td>\n",
       "      <td>NaN</td>\n",
       "      <td>17900.0</td>\n",
       "    </tr>\n",
       "  </tbody>\n",
       "</table>\n",
       "</div>"
      ],
      "text/plain": [
       "   S.No  Customer.ID Customer.Name  Customer.Age        Date Product.Bought  \\\n",
       "0     1        100.0         Ahmed          23.0  12/10/2019   Water Bottle   \n",
       "1     2        101.0         Ahmed          23.0  13/10/2019   Power Switch   \n",
       "2     3        102.0          Saim          16.0  14/10/2019         Fridge   \n",
       "3     4        103.0        Farhan          34.0  15/10/2019         Mobile   \n",
       "4     5        104.0         Imran          45.0  16/10/2019          Table   \n",
       "\n",
       "   Quantity    Sales  \n",
       "0       2.0    945.0  \n",
       "1       1.0    324.0  \n",
       "2       1.0  45000.0  \n",
       "3       1.0  33000.0  \n",
       "4       NaN  17900.0  "
      ]
     },
     "execution_count": 14,
     "metadata": {},
     "output_type": "execute_result"
    }
   ],
   "source": [
    "missingdf.head(5)"
   ]
  },
  {
   "cell_type": "code",
   "execution_count": 16,
   "metadata": {},
   "outputs": [
    {
     "data": {
      "text/html": [
       "<div>\n",
       "<style scoped>\n",
       "    .dataframe tbody tr th:only-of-type {\n",
       "        vertical-align: middle;\n",
       "    }\n",
       "\n",
       "    .dataframe tbody tr th {\n",
       "        vertical-align: top;\n",
       "    }\n",
       "\n",
       "    .dataframe thead th {\n",
       "        text-align: right;\n",
       "    }\n",
       "</style>\n",
       "<table border=\"1\" class=\"dataframe\">\n",
       "  <thead>\n",
       "    <tr style=\"text-align: right;\">\n",
       "      <th></th>\n",
       "      <th>S.No</th>\n",
       "      <th>Customer.ID</th>\n",
       "      <th>Customer.Name</th>\n",
       "      <th>Customer.Age</th>\n",
       "      <th>Date</th>\n",
       "      <th>Product.Bought</th>\n",
       "      <th>Quantity</th>\n",
       "      <th>Sales</th>\n",
       "    </tr>\n",
       "  </thead>\n",
       "  <tbody>\n",
       "    <tr>\n",
       "      <th>0</th>\n",
       "      <td>1</td>\n",
       "      <td>100.0</td>\n",
       "      <td>Ahmed</td>\n",
       "      <td>23.0</td>\n",
       "      <td>12/10/2019</td>\n",
       "      <td>Water Bottle</td>\n",
       "      <td>2.0</td>\n",
       "      <td>945.0</td>\n",
       "    </tr>\n",
       "    <tr>\n",
       "      <th>1</th>\n",
       "      <td>2</td>\n",
       "      <td>101.0</td>\n",
       "      <td>Ahmed</td>\n",
       "      <td>23.0</td>\n",
       "      <td>13/10/2019</td>\n",
       "      <td>Power Switch</td>\n",
       "      <td>1.0</td>\n",
       "      <td>324.0</td>\n",
       "    </tr>\n",
       "    <tr>\n",
       "      <th>2</th>\n",
       "      <td>3</td>\n",
       "      <td>102.0</td>\n",
       "      <td>Saim</td>\n",
       "      <td>16.0</td>\n",
       "      <td>14/10/2019</td>\n",
       "      <td>Fridge</td>\n",
       "      <td>1.0</td>\n",
       "      <td>45000.0</td>\n",
       "    </tr>\n",
       "    <tr>\n",
       "      <th>3</th>\n",
       "      <td>4</td>\n",
       "      <td>103.0</td>\n",
       "      <td>Farhan</td>\n",
       "      <td>34.0</td>\n",
       "      <td>15/10/2019</td>\n",
       "      <td>Mobile</td>\n",
       "      <td>1.0</td>\n",
       "      <td>33000.0</td>\n",
       "    </tr>\n",
       "    <tr>\n",
       "      <th>4</th>\n",
       "      <td>5</td>\n",
       "      <td>104.0</td>\n",
       "      <td>Imran</td>\n",
       "      <td>45.0</td>\n",
       "      <td>16/10/2019</td>\n",
       "      <td>Table</td>\n",
       "      <td>1.8</td>\n",
       "      <td>17900.0</td>\n",
       "    </tr>\n",
       "  </tbody>\n",
       "</table>\n",
       "</div>"
      ],
      "text/plain": [
       "   S.No  Customer.ID Customer.Name  Customer.Age        Date Product.Bought  \\\n",
       "0     1        100.0         Ahmed          23.0  12/10/2019   Water Bottle   \n",
       "1     2        101.0         Ahmed          23.0  13/10/2019   Power Switch   \n",
       "2     3        102.0          Saim          16.0  14/10/2019         Fridge   \n",
       "3     4        103.0        Farhan          34.0  15/10/2019         Mobile   \n",
       "4     5        104.0         Imran          45.0  16/10/2019          Table   \n",
       "\n",
       "   Quantity    Sales  \n",
       "0       2.0    945.0  \n",
       "1       1.0    324.0  \n",
       "2       1.0  45000.0  \n",
       "3       1.0  33000.0  \n",
       "4       1.8  17900.0  "
      ]
     },
     "execution_count": 16,
     "metadata": {},
     "output_type": "execute_result"
    }
   ],
   "source": [
    "missingdf_mean.head(5)"
   ]
  },
  {
   "cell_type": "code",
   "execution_count": 17,
   "metadata": {},
   "outputs": [
    {
     "data": {
      "text/plain": [
       "S.No              0\n",
       "Customer.ID       0\n",
       "Customer.Name     0\n",
       "Customer.Age      0\n",
       "Date              0\n",
       "Product.Bought    2\n",
       "Quantity          0\n",
       "Sales             0\n",
       "dtype: int64"
      ]
     },
     "execution_count": 17,
     "metadata": {},
     "output_type": "execute_result"
    }
   ],
   "source": [
    "#check\n",
    "missingdf_mean.isnull().sum()"
   ]
  },
  {
   "cell_type": "markdown",
   "metadata": {},
   "source": [
    "We now plot to see whether the distribution remains the same after the missing values have been filled in"
   ]
  },
  {
   "cell_type": "code",
   "execution_count": 18,
   "metadata": {},
   "outputs": [
    {
     "data": {
      "text/plain": [
       "<AxesSubplot:xlabel='Sales', ylabel='Quantity'>"
      ]
     },
     "execution_count": 18,
     "metadata": {},
     "output_type": "execute_result"
    },
    {
     "data": {
      "image/png": "[encoded data removed]",
      "text/plain": [
       "<Figure size 432x288 with 1 Axes>"
      ]
     },
     "metadata": {
      "needs_background": "light"
     },
     "output_type": "display_data"
    }
   ],
   "source": [
    "#comparing sales vs quantity (values filled in by mean)\n",
    "missingdf_mean.plot(x='Sales',y='Quantity',kind='scatter',alpha=0.5,cmap='rainbow')"
   ]
  },
  {
   "cell_type": "code",
   "execution_count": 19,
   "metadata": {},
   "outputs": [
    {
     "name": "stderr",
     "output_type": "stream",
     "text": [
      "C:\\ProgramData\\Anaconda3\\lib\\site-packages\\pandas\\core\\computation\\expressions.py:203: UserWarning: evaluating in Python space because the '+' operator is not supported by numexpr for the bool dtype, use '|' instead\n",
      "  warnings.warn(\n"
     ]
    },
    {
     "data": {
      "text/plain": [
       "0     False\n",
       "1     False\n",
       "2     False\n",
       "3     False\n",
       "4      True\n",
       "5     False\n",
       "6      True\n",
       "7      True\n",
       "8     False\n",
       "9     False\n",
       "10    False\n",
       "11    False\n",
       "12     True\n",
       "13     True\n",
       "14    False\n",
       "15     True\n",
       "16    False\n",
       "17    False\n",
       "18    False\n",
       "21     True\n",
       "22    False\n",
       "23     True\n",
       "24     True\n",
       "25     True\n",
       "26    False\n",
       "27    False\n",
       "dtype: bool"
      ]
     },
     "execution_count": 19,
     "metadata": {},
     "output_type": "execute_result"
    }
   ],
   "source": [
    "#now, lets determine those rows where values of either sales or quantity went missing\n",
    "nulls =  missingdf['Sales'].isnull() + missingdf['Quantity'].isnull()\n",
    "nulls"
   ]
  },
  {
   "cell_type": "markdown",
   "metadata": {},
   "source": [
    "Explanation: As we can see that null values follow the same distribution which means mean stretagy is quite good"
   ]
  },
  {
   "cell_type": "code",
   "execution_count": 20,
   "metadata": {},
   "outputs": [
    {
     "data": {
      "text/plain": [
       "<AxesSubplot:xlabel='Sales', ylabel='Quantity'>"
      ]
     },
     "execution_count": 20,
     "metadata": {},
     "output_type": "execute_result"
    },
    {
     "data": {
      "image/png": "[encoded data removed]",
      "text/plain": [
       "<Figure size 432x288 with 2 Axes>"
      ]
     },
     "metadata": {
      "needs_background": "light"
     },
     "output_type": "display_data"
    }
   ],
   "source": [
    "#Now, lets plot them together\n",
    "missingdf_mean.plot(x='Sales',y='Quantity',kind='scatter',alpha=0.5,c=nulls,cmap='rainbow')"
   ]
  },
  {
   "cell_type": "markdown",
   "metadata": {},
   "source": [
    "From the above, we can conclude that values have been filled in according to the given distribution because the purple marks are following the same pattern as the red ones"
   ]
  },
  {
   "cell_type": "code",
   "execution_count": 21,
   "metadata": {},
   "outputs": [
    {
     "data": {
      "text/plain": [
       "<AxesSubplot:xlabel='Sales', ylabel='Customer.Age'>"
      ]
     },
     "execution_count": 21,
     "metadata": {},
     "output_type": "execute_result"
    },
    {
     "data": {
      "image/png": "[encoded data removed]",
      "text/plain": [
       "<Figure size 432x288 with 2 Axes>"
      ]
     },
     "metadata": {
      "needs_background": "light"
     },
     "output_type": "display_data"
    }
   ],
   "source": [
    "nulls =  missingdf['Sales'].isnull() + missingdf['Customer.Age'].isnull()\n",
    "missingdf_mean.plot(x='Sales',y='Customer.Age',kind='scatter',alpha=0.5,c=nulls,cmap='rainbow')"
   ]
  },
  {
   "cell_type": "markdown",
   "metadata": {},
   "source": [
    "### K-NN Based Imputation"
   ]
  },
  {
   "cell_type": "markdown",
   "metadata": {},
   "source": [
    "In KNN imputer, we basically give a value k which will be used to determine the value we want to fill our missing values with. For exmple, if we select 5 k value, the algorithm will look at 5 nearest k values to determine the suitable value for null value"
   ]
  },
  {
   "cell_type": "code",
   "execution_count": 23,
   "metadata": {},
   "outputs": [
    {
     "data": {
      "text/html": [
       "<div>\n",
       "<style scoped>\n",
       "    .dataframe tbody tr th:only-of-type {\n",
       "        vertical-align: middle;\n",
       "    }\n",
       "\n",
       "    .dataframe tbody tr th {\n",
       "        vertical-align: top;\n",
       "    }\n",
       "\n",
       "    .dataframe thead th {\n",
       "        text-align: right;\n",
       "    }\n",
       "</style>\n",
       "<table border=\"1\" class=\"dataframe\">\n",
       "  <thead>\n",
       "    <tr style=\"text-align: right;\">\n",
       "      <th></th>\n",
       "      <th>S.No</th>\n",
       "      <th>Customer.ID</th>\n",
       "      <th>Customer.Name</th>\n",
       "      <th>Customer.Age</th>\n",
       "      <th>Date</th>\n",
       "      <th>Product.Bought</th>\n",
       "      <th>Quantity</th>\n",
       "      <th>Sales</th>\n",
       "    </tr>\n",
       "  </thead>\n",
       "  <tbody>\n",
       "    <tr>\n",
       "      <th>0</th>\n",
       "      <td>1</td>\n",
       "      <td>100.0</td>\n",
       "      <td>Ahmed</td>\n",
       "      <td>23.0</td>\n",
       "      <td>12/10/2019</td>\n",
       "      <td>Water Bottle</td>\n",
       "      <td>2.0</td>\n",
       "      <td>945.0</td>\n",
       "    </tr>\n",
       "    <tr>\n",
       "      <th>1</th>\n",
       "      <td>2</td>\n",
       "      <td>101.0</td>\n",
       "      <td>Ahmed</td>\n",
       "      <td>23.0</td>\n",
       "      <td>13/10/2019</td>\n",
       "      <td>Power Switch</td>\n",
       "      <td>1.0</td>\n",
       "      <td>324.0</td>\n",
       "    </tr>\n",
       "    <tr>\n",
       "      <th>2</th>\n",
       "      <td>3</td>\n",
       "      <td>102.0</td>\n",
       "      <td>Saim</td>\n",
       "      <td>16.0</td>\n",
       "      <td>14/10/2019</td>\n",
       "      <td>Fridge</td>\n",
       "      <td>1.0</td>\n",
       "      <td>45000.0</td>\n",
       "    </tr>\n",
       "    <tr>\n",
       "      <th>3</th>\n",
       "      <td>4</td>\n",
       "      <td>103.0</td>\n",
       "      <td>Farhan</td>\n",
       "      <td>34.0</td>\n",
       "      <td>15/10/2019</td>\n",
       "      <td>Mobile</td>\n",
       "      <td>1.0</td>\n",
       "      <td>33000.0</td>\n",
       "    </tr>\n",
       "    <tr>\n",
       "      <th>4</th>\n",
       "      <td>5</td>\n",
       "      <td>104.0</td>\n",
       "      <td>Imran</td>\n",
       "      <td>45.0</td>\n",
       "      <td>16/10/2019</td>\n",
       "      <td>Table</td>\n",
       "      <td>1.0</td>\n",
       "      <td>17900.0</td>\n",
       "    </tr>\n",
       "  </tbody>\n",
       "</table>\n",
       "</div>"
      ],
      "text/plain": [
       "   S.No  Customer.ID Customer.Name  Customer.Age        Date Product.Bought  \\\n",
       "0     1        100.0         Ahmed          23.0  12/10/2019   Water Bottle   \n",
       "1     2        101.0         Ahmed          23.0  13/10/2019   Power Switch   \n",
       "2     3        102.0          Saim          16.0  14/10/2019         Fridge   \n",
       "3     4        103.0        Farhan          34.0  15/10/2019         Mobile   \n",
       "4     5        104.0         Imran          45.0  16/10/2019          Table   \n",
       "\n",
       "   Quantity    Sales  \n",
       "0       2.0    945.0  \n",
       "1       1.0    324.0  \n",
       "2       1.0  45000.0  \n",
       "3       1.0  33000.0  \n",
       "4       1.0  17900.0  "
      ]
     },
     "execution_count": 23,
     "metadata": {},
     "output_type": "execute_result"
    }
   ],
   "source": [
    "#read the CSV file again\n",
    "missingdf = pd.read_csv(\"D:/DataSets/Missing.Value.Data.csv\")\n",
    "\n",
    "from sklearn.impute import KNNImputer\n",
    "imputer = KNNImputer (n_neighbors=2)\n",
    "missingdf_knn = missingdf.copy(deep=True)\n",
    "missingdf_knn[['Customer.Age','Sales','Quantity']] = imputer.fit_transform(missingdf_knn[['Customer.Age','Sales','Quantity']])\n",
    "missingdf_knn.head()"
   ]
  },
  {
   "cell_type": "code",
   "execution_count": 24,
   "metadata": {},
   "outputs": [
    {
     "data": {
      "text/plain": [
       "<AxesSubplot:xlabel='Sales', ylabel='Quantity'>"
      ]
     },
     "execution_count": 24,
     "metadata": {},
     "output_type": "execute_result"
    },
    {
     "data": {
      "image/png": "[encoded data removed]",
      "text/plain": [
       "<Figure size 432x288 with 1 Axes>"
      ]
     },
     "metadata": {
      "needs_background": "light"
     },
     "output_type": "display_data"
    }
   ],
   "source": [
    "#comparing sales vs quantity (values filled in by knn)\n",
    "missingdf_knn.plot(x='Sales',y='Quantity',kind='scatter',alpha=0.5,cmap='rainbow')"
   ]
  },
  {
   "cell_type": "markdown",
   "metadata": {},
   "source": [
    "The distribution doesn't follow quite good that's maybe because we have selected too low value of k"
   ]
  },
  {
   "cell_type": "code",
   "execution_count": 25,
   "metadata": {},
   "outputs": [
    {
     "name": "stderr",
     "output_type": "stream",
     "text": [
      "C:\\ProgramData\\Anaconda3\\lib\\site-packages\\pandas\\core\\computation\\expressions.py:203: UserWarning: evaluating in Python space because the '+' operator is not supported by numexpr for the bool dtype, use '|' instead\n",
      "  warnings.warn(\n"
     ]
    },
    {
     "data": {
      "text/plain": [
       "<AxesSubplot:xlabel='Sales', ylabel='Quantity'>"
      ]
     },
     "execution_count": 25,
     "metadata": {},
     "output_type": "execute_result"
    },
    {
     "data": {
      "image/png": "[encoded data removed]",
      "text/plain": [
       "<Figure size 432x288 with 2 Axes>"
      ]
     },
     "metadata": {
      "needs_background": "light"
     },
     "output_type": "display_data"
    }
   ],
   "source": [
    "nulls =  missingdf['Sales'].isnull() + missingdf['Quantity'].isnull()\n",
    "missingdf_knn.plot(x='Sales',y='Quantity',kind='scatter',alpha=0.5,c=nulls,cmap='rainbow')"
   ]
  },
  {
   "cell_type": "markdown",
   "metadata": {},
   "source": [
    "k = 8"
   ]
  },
  {
   "cell_type": "code",
   "execution_count": 27,
   "metadata": {},
   "outputs": [
    {
     "data": {
      "text/html": [
       "<div>\n",
       "<style scoped>\n",
       "    .dataframe tbody tr th:only-of-type {\n",
       "        vertical-align: middle;\n",
       "    }\n",
       "\n",
       "    .dataframe tbody tr th {\n",
       "        vertical-align: top;\n",
       "    }\n",
       "\n",
       "    .dataframe thead th {\n",
       "        text-align: right;\n",
       "    }\n",
       "</style>\n",
       "<table border=\"1\" class=\"dataframe\">\n",
       "  <thead>\n",
       "    <tr style=\"text-align: right;\">\n",
       "      <th></th>\n",
       "      <th>S.No</th>\n",
       "      <th>Customer.ID</th>\n",
       "      <th>Customer.Name</th>\n",
       "      <th>Customer.Age</th>\n",
       "      <th>Date</th>\n",
       "      <th>Product.Bought</th>\n",
       "      <th>Quantity</th>\n",
       "      <th>Sales</th>\n",
       "    </tr>\n",
       "  </thead>\n",
       "  <tbody>\n",
       "    <tr>\n",
       "      <th>0</th>\n",
       "      <td>1</td>\n",
       "      <td>100.0</td>\n",
       "      <td>Ahmed</td>\n",
       "      <td>23.0</td>\n",
       "      <td>12/10/2019</td>\n",
       "      <td>Water Bottle</td>\n",
       "      <td>2.000</td>\n",
       "      <td>945.0</td>\n",
       "    </tr>\n",
       "    <tr>\n",
       "      <th>1</th>\n",
       "      <td>2</td>\n",
       "      <td>101.0</td>\n",
       "      <td>Ahmed</td>\n",
       "      <td>23.0</td>\n",
       "      <td>13/10/2019</td>\n",
       "      <td>Power Switch</td>\n",
       "      <td>1.000</td>\n",
       "      <td>324.0</td>\n",
       "    </tr>\n",
       "    <tr>\n",
       "      <th>2</th>\n",
       "      <td>3</td>\n",
       "      <td>102.0</td>\n",
       "      <td>Saim</td>\n",
       "      <td>16.0</td>\n",
       "      <td>14/10/2019</td>\n",
       "      <td>Fridge</td>\n",
       "      <td>1.000</td>\n",
       "      <td>45000.0</td>\n",
       "    </tr>\n",
       "    <tr>\n",
       "      <th>3</th>\n",
       "      <td>4</td>\n",
       "      <td>103.0</td>\n",
       "      <td>Farhan</td>\n",
       "      <td>34.0</td>\n",
       "      <td>15/10/2019</td>\n",
       "      <td>Mobile</td>\n",
       "      <td>1.000</td>\n",
       "      <td>33000.0</td>\n",
       "    </tr>\n",
       "    <tr>\n",
       "      <th>4</th>\n",
       "      <td>5</td>\n",
       "      <td>104.0</td>\n",
       "      <td>Imran</td>\n",
       "      <td>45.0</td>\n",
       "      <td>16/10/2019</td>\n",
       "      <td>Table</td>\n",
       "      <td>2.125</td>\n",
       "      <td>17900.0</td>\n",
       "    </tr>\n",
       "  </tbody>\n",
       "</table>\n",
       "</div>"
      ],
      "text/plain": [
       "   S.No  Customer.ID Customer.Name  Customer.Age        Date Product.Bought  \\\n",
       "0     1        100.0         Ahmed          23.0  12/10/2019   Water Bottle   \n",
       "1     2        101.0         Ahmed          23.0  13/10/2019   Power Switch   \n",
       "2     3        102.0          Saim          16.0  14/10/2019         Fridge   \n",
       "3     4        103.0        Farhan          34.0  15/10/2019         Mobile   \n",
       "4     5        104.0         Imran          45.0  16/10/2019          Table   \n",
       "\n",
       "   Quantity    Sales  \n",
       "0     2.000    945.0  \n",
       "1     1.000    324.0  \n",
       "2     1.000  45000.0  \n",
       "3     1.000  33000.0  \n",
       "4     2.125  17900.0  "
      ]
     },
     "execution_count": 27,
     "metadata": {},
     "output_type": "execute_result"
    }
   ],
   "source": [
    "#read the CSV file again\n",
    "missingdf = pd.read_csv(\"D:/DataSets/Missing.Value.Data.csv\")\n",
    "\n",
    "from sklearn.impute import KNNImputer\n",
    "imputer = KNNImputer (n_neighbors=8)\n",
    "missingdf_knn = missingdf.copy(deep=True)\n",
    "missingdf_knn[['Customer.Age','Sales','Quantity']] = imputer.fit_transform(missingdf_knn[['Customer.Age','Sales','Quantity']])\n",
    "missingdf_knn.head()"
   ]
  },
  {
   "cell_type": "code",
   "execution_count": 28,
   "metadata": {},
   "outputs": [
    {
     "data": {
      "text/plain": [
       "<AxesSubplot:xlabel='Sales', ylabel='Quantity'>"
      ]
     },
     "execution_count": 28,
     "metadata": {},
     "output_type": "execute_result"
    },
    {
     "data": {
      "image/png": "[encoded data removed]",
      "text/plain": [
       "<Figure size 432x288 with 1 Axes>"
      ]
     },
     "metadata": {
      "needs_background": "light"
     },
     "output_type": "display_data"
    }
   ],
   "source": [
    "#comparing sales vs quantity (values filled in by knn)\n",
    "missingdf_knn.plot(x='Sales',y='Quantity',kind='scatter',alpha=0.5,cmap='rainbow')"
   ]
  },
  {
   "cell_type": "markdown",
   "metadata": {},
   "source": [
    "BETTER! see that missing values follow the same distribution hence KNN imputer is better with 8 k value."
   ]
  },
  {
   "cell_type": "code",
   "execution_count": 29,
   "metadata": {},
   "outputs": [
    {
     "name": "stderr",
     "output_type": "stream",
     "text": [
      "C:\\ProgramData\\Anaconda3\\lib\\site-packages\\pandas\\core\\computation\\expressions.py:203: UserWarning: evaluating in Python space because the '+' operator is not supported by numexpr for the bool dtype, use '|' instead\n",
      "  warnings.warn(\n"
     ]
    },
    {
     "data": {
      "text/plain": [
       "<AxesSubplot:xlabel='Sales', ylabel='Quantity'>"
      ]
     },
     "execution_count": 29,
     "metadata": {},
     "output_type": "execute_result"
    },
    {
     "data": {
      "image/png": "[encoded data removed]",
      "text/plain": [
       "<Figure size 432x288 with 2 Axes>"
      ]
     },
     "metadata": {
      "needs_background": "light"
     },
     "output_type": "display_data"
    }
   ],
   "source": [
    "nulls =  missingdf['Sales'].isnull() + missingdf['Quantity'].isnull()\n",
    "missingdf_knn.plot(x='Sales',y='Quantity',kind='scatter',alpha=0.5,c=nulls,cmap='rainbow')"
   ]
  },
  {
   "cell_type": "markdown",
   "metadata": {},
   "source": [
    "You can see from above that the gray dots are again following the same pattern of red dots so the filling up of missing values seems ok"
   ]
  },
  {
   "cell_type": "code",
   "execution_count": null,
   "metadata": {},
   "outputs": [],
   "source": []
  }
 ],
 "metadata": {
  "kernelspec": {
   "display_name": "Python 3 (ipykernel)",
   "language": "python",
   "name": "python3"
  },
  "language_info": {
   "codemirror_mode": {
    "name": "ipython",
    "version": 3
   },
   "file_extension": ".py",
   "mimetype": "text/x-python",
   "name": "python",
   "nbconvert_exporter": "python",
   "pygments_lexer": "ipython3",
   "version": "3.9.7"
  }
 },
 "nbformat": 4,
 "nbformat_minor": 4
}
