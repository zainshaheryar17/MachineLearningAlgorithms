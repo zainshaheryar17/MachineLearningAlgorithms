{
 "cells": [
  {
   "cell_type": "code",
   "execution_count": 7,
   "id": "b55cc39e",
   "metadata": {},
   "outputs": [],
   "source": [
    "import pandas as pd\n",
    "import numpy as np\n",
    "from sklearn.model_selection import train_test_split\n",
    "import matplotlib.pyplot as plt"
   ]
  },
  {
   "cell_type": "code",
   "execution_count": 2,
   "id": "158ad172",
   "metadata": {},
   "outputs": [],
   "source": [
    "df=pd.read_csv(\"E:/Datasets/smartphone_sales.csv\")"
   ]
  },
  {
   "cell_type": "code",
   "execution_count": 3,
   "id": "69a38cfa",
   "metadata": {},
   "outputs": [
    {
     "data": {
      "text/plain": [
       "['Quarter', 'Apple', 'Samsung', 'Huawei', 'Xiaomi', 'OPPO']"
      ]
     },
     "execution_count": 3,
     "metadata": {},
     "output_type": "execute_result"
    }
   ],
   "source": [
    "cols=list(df.columns)\n",
    "cols\n"
   ]
  },
  {
   "cell_type": "code",
   "execution_count": 4,
   "id": "faa2fe9c",
   "metadata": {},
   "outputs": [
    {
     "data": {
      "text/html": [
       "<div>\n",
       "<style scoped>\n",
       "    .dataframe tbody tr th:only-of-type {\n",
       "        vertical-align: middle;\n",
       "    }\n",
       "\n",
       "    .dataframe tbody tr th {\n",
       "        vertical-align: top;\n",
       "    }\n",
       "\n",
       "    .dataframe thead th {\n",
       "        text-align: right;\n",
       "    }\n",
       "</style>\n",
       "<table border=\"1\" class=\"dataframe\">\n",
       "  <thead>\n",
       "    <tr style=\"text-align: right;\">\n",
       "      <th></th>\n",
       "      <th>Quarter</th>\n",
       "      <th>Apple</th>\n",
       "      <th>Samsung</th>\n",
       "      <th>Huawei</th>\n",
       "      <th>Xiaomi</th>\n",
       "      <th>OPPO</th>\n",
       "    </tr>\n",
       "  </thead>\n",
       "  <tbody>\n",
       "    <tr>\n",
       "      <th>0</th>\n",
       "      <td>3Q16</td>\n",
       "      <td>43001</td>\n",
       "      <td>71734</td>\n",
       "      <td>32490</td>\n",
       "      <td>14926</td>\n",
       "      <td>24591</td>\n",
       "    </tr>\n",
       "    <tr>\n",
       "      <th>1</th>\n",
       "      <td>4Q16</td>\n",
       "      <td>77039</td>\n",
       "      <td>76783</td>\n",
       "      <td>40804</td>\n",
       "      <td>15751</td>\n",
       "      <td>26705</td>\n",
       "    </tr>\n",
       "    <tr>\n",
       "      <th>2</th>\n",
       "      <td>1Q17</td>\n",
       "      <td>51993</td>\n",
       "      <td>78776</td>\n",
       "      <td>34181</td>\n",
       "      <td>12707</td>\n",
       "      <td>30922</td>\n",
       "    </tr>\n",
       "    <tr>\n",
       "      <th>3</th>\n",
       "      <td>2Q17</td>\n",
       "      <td>44315</td>\n",
       "      <td>82855</td>\n",
       "      <td>35964</td>\n",
       "      <td>21179</td>\n",
       "      <td>26093</td>\n",
       "    </tr>\n",
       "    <tr>\n",
       "      <th>4</th>\n",
       "      <td>3Q17</td>\n",
       "      <td>45442</td>\n",
       "      <td>85605</td>\n",
       "      <td>36502</td>\n",
       "      <td>26853</td>\n",
       "      <td>29449</td>\n",
       "    </tr>\n",
       "  </tbody>\n",
       "</table>\n",
       "</div>"
      ],
      "text/plain": [
       "  Quarter  Apple  Samsung  Huawei  Xiaomi   OPPO\n",
       "0    3Q16  43001    71734   32490   14926  24591\n",
       "1    4Q16  77039    76783   40804   15751  26705\n",
       "2    1Q17  51993    78776   34181   12707  30922\n",
       "3    2Q17  44315    82855   35964   21179  26093\n",
       "4    3Q17  45442    85605   36502   26853  29449"
      ]
     },
     "execution_count": 4,
     "metadata": {},
     "output_type": "execute_result"
    }
   ],
   "source": [
    "df.head()"
   ]
  },
  {
   "cell_type": "code",
   "execution_count": 5,
   "id": "4de951f1",
   "metadata": {},
   "outputs": [
    {
     "data": {
      "text/plain": [
       "Index(['Apple', 'Samsung', 'Huawei', 'Xiaomi', 'OPPO'], dtype='object')"
      ]
     },
     "execution_count": 5,
     "metadata": {},
     "output_type": "execute_result"
    }
   ],
   "source": [
    "#X_train,X_test,y_train,y_test #where  X is feature_cols and y is label\n",
    "\n",
    "df01=df.iloc[:,1:]\n",
    "cols=df01.columns\n",
    "cols"
   ]
  },
  {
   "cell_type": "code",
   "execution_count": 9,
   "id": "974aef9c",
   "metadata": {},
   "outputs": [
    {
     "data": {
      "text/plain": [
       "Text(0, 0.5, 'Sale')"
      ]
     },
     "execution_count": 9,
     "metadata": {},
     "output_type": "execute_result"
    },
    {
     "data": {
      "image/png": "[encoded data removed]",
      "text/plain": [
       "<Figure size 1080x504 with 1 Axes>"
      ]
     },
     "metadata": {
      "needs_background": "light"
     },
     "output_type": "display_data"
    }
   ],
   "source": [
    "chrt=df01.plot(kind='bar',stacked=True, figsize=(15,7))\n",
    "\n",
    "plt.xticks(range(len(df.Quarter)),df.Quarter)\n",
    "plt.title(\"Stacked Chart\")\n",
    "plt.xlabel(\"Quarter\")\n",
    "plt.ylabel(\"Sale\")\n",
    "\n",
    "for p in chrt.patches:\n",
    "    chrt.annotate(format(p.get_height(),'.0f'),\n",
    "                 (p.get_x()+p.get_width()/2.p.get_height()),\n",
    "                 ),\n",
    "                    "
   ]
  },
  {
   "cell_type": "code",
   "execution_count": 13,
   "id": "68031756",
   "metadata": {},
   "outputs": [],
   "source": [
    "#count=df['label'][df['label']==0].count()\n",
    "#count#total number of zero's in dataset"
   ]
  },
  {
   "cell_type": "code",
   "execution_count": 17,
   "id": "a0df6a6b",
   "metadata": {},
   "outputs": [],
   "source": [
    "X=df[feature_cols] #features\n",
    "y=label #target variable\n",
    "X_train,X_test,y_train,y_test =train_test_split(X,y,test_size=0.3,random_state=1)"
   ]
  },
  {
   "cell_type": "code",
   "execution_count": 120,
   "id": "367cbb0d",
   "metadata": {},
   "outputs": [],
   "source": [
    "def applyClsAlgo(algo='GNB',slvr='lbfgs',mx_itr=1000,criteria='entropy',mx_dpt=3,krnl='rbf'):\n",
    "    if algo=='LogReg':\n",
    "        from sklearn.linear_model import LogisticRegression\n",
    "        clfr=LogisticRegression(solver=slvr,max_iter=mx_itr)\n",
    "    elif algo=='DT':\n",
    "        from sklearn.tree import DecisionTreeClassifier\n",
    "        clfr=DecisionTreeClassifier(criterion=criteria,max_depth=mx_dept)\n",
    "    elif algo=='GNB':\n",
    "        from sklearn.naive_bayes import GaussianNB\n",
    "        clfr=GaussianNB()\n",
    "    elif algo=='SVC':\n",
    "        from sklearn.svm import SVC\n",
    "        clfr=SVC(kernel=krnl)\n",
    "    elif algo=='KNN':\n",
    "        from sklearn.neighbors import KNeighborsClassifier\n",
    "        clfr=KNeighborsClassifier(n_neighbors=mx_dpt)\n",
    "    elif algo=='RFC':\n",
    "        from sklearn.ensemble import RandomForestClassifier\n",
    "        clfr=RandomForestClassifier(n_estimators=mx_dpt)\n",
    "    return clfr\n",
    "        "
   ]
  },
  {
   "cell_type": "code",
   "execution_count": 121,
   "id": "0663d60b",
   "metadata": {},
   "outputs": [
    {
     "data": {
      "text/plain": [
       "RandomForestClassifier(n_estimators=3)"
      ]
     },
     "execution_count": 121,
     "metadata": {},
     "output_type": "execute_result"
    }
   ],
   "source": [
    "clf=applyClsAlgo(algo='RFC')\n",
    "clf"
   ]
  },
  {
   "cell_type": "code",
   "execution_count": 122,
   "id": "2ad2897a",
   "metadata": {},
   "outputs": [],
   "source": [
    "clf=clf.fit(X_train,y_train) #train classifier"
   ]
  },
  {
   "cell_type": "code",
   "execution_count": 123,
   "id": "ef145858",
   "metadata": {},
   "outputs": [],
   "source": [
    "y_pred=clf.predict(X_test) #predict the response for test dataset "
   ]
  },
  {
   "cell_type": "markdown",
   "id": "eec255a3",
   "metadata": {},
   "source": [
    "# Calculate Accuracy"
   ]
  },
  {
   "cell_type": "code",
   "execution_count": 124,
   "id": "2705c436",
   "metadata": {},
   "outputs": [],
   "source": [
    "#calculate accuracy\n",
    "from sklearn import metrics"
   ]
  },
  {
   "cell_type": "code",
   "execution_count": 125,
   "id": "b3f975c5",
   "metadata": {},
   "outputs": [
    {
     "name": "stdout",
     "output_type": "stream",
     "text": [
      "Confusion Matrix\n",
      "[[152  63]\n",
      " [ 83  95]]\n"
     ]
    }
   ],
   "source": [
    "result=metrics.confusion_matrix(y_test,y_pred)\n",
    "print(\"Confusion Matrix\")\n",
    "print(result)\n"
   ]
  },
  {
   "cell_type": "code",
   "execution_count": 126,
   "id": "88a5d21d",
   "metadata": {},
   "outputs": [],
   "source": [
    "def plt1():\n",
    "    import seaborn as sns; sns.set\n",
    "    c_mtrx=pd.crosstab(y_test,y_pred,rownames=['Actual'],colnames=['Predicted'])\n",
    "    sns.heatmap(c_mtrx,annot=True)"
   ]
  },
  {
   "cell_type": "code",
   "execution_count": 127,
   "id": "a2eb29be",
   "metadata": {},
   "outputs": [
    {
     "data": {
      "image/png": "[encoded data removed]",
      "text/plain": [
       "<Figure size 432x288 with 2 Axes>"
      ]
     },
     "metadata": {
      "needs_background": "light"
     },
     "output_type": "display_data"
    }
   ],
   "source": [
    "plt1()"
   ]
  },
  {
   "cell_type": "code",
   "execution_count": 128,
   "id": "8276f9c1",
   "metadata": {},
   "outputs": [],
   "source": [
    "#row column\n",
    "TP=result[1,1]\n",
    "TN=result[0,0]\n",
    "FP=result[0,1]\n",
    "FN=result[1,0]"
   ]
  },
  {
   "cell_type": "markdown",
   "id": "53e1d78f",
   "metadata": {},
   "source": [
    "# Metrics computed from confusion matrix\n",
    "Classfication Accuracy:Overall, how often is the classifier correct?(TP+TN)/(TP+TN+FP+FN)\n",
    "Classification Error(Misclassification Rate): Overall, how often is the classifier incorrect? (FP+FN)/(TP+TN+FP+FN)\n",
    "Classification Error:1-Classification Accuracy\n",
    "Sensitivity Recall: When the actual value is positive, how oten is the prediction correct? TP/(FN+TP)\n",
    "Specificity: When the actual value is negative,how often is the prediction correct TN/(TN+FP)\n",
    "Precision: When a positive vlaue is predicted, how often is the prediction correct?TP/(TP+FP)\n",
    "Classification Error(Misclassification Rate): Overall, how often is the classifier incorrect? \n",
    "False Positive Rate: When the actual value is negative, how often is the prediciton incorrect? FP/(TN+FP)\n",
    "\n"
   ]
  },
  {
   "cell_type": "code",
   "execution_count": 129,
   "id": "3b8f82be",
   "metadata": {},
   "outputs": [],
   "source": [
    "def EvClsMdl(res):\n",
    "    print(\"metrics computed from a confusion matrix\")\n",
    "    print(\"Accuracy:\\t\", metrics.accuracy_score(y_test, y_pred))\n",
    "    print(\"Sensitivity:\\t\", metrics.recall_score(y_test, y_pred))\n",
    "    print(\"Specificity:\\t\",TN / (TN + FP))\n",
    "    print(\"Precision:\\t\", metrics.precision_score(y_test, y_pred))\n",
    "    print(\"Classification Eerror:\", 1 - metrics.accuracy_score(y_test, y_pred))\n",
    "    print(\"False_Positive_Rate:\", 1 - TN / (TN + FP))\n",
    "    "
   ]
  },
  {
   "cell_type": "code",
   "execution_count": 130,
   "id": "5f74e769",
   "metadata": {},
   "outputs": [
    {
     "name": "stdout",
     "output_type": "stream",
     "text": [
      "metrics computed from a confusion matrix\n",
      "Accuracy:\t 0.628498727735369\n",
      "Sensitivity:\t 0.5337078651685393\n",
      "Specificity:\t 0.7069767441860465\n",
      "Precision:\t 0.6012658227848101\n",
      "Classification Eerror: 0.37150127226463103\n",
      "False_Positive_Rate: 0.2930232558139535\n"
     ]
    }
   ],
   "source": [
    "EvClsMdl(result)"
   ]
  },
  {
   "cell_type": "code",
   "execution_count": 131,
   "id": "03b60d48",
   "metadata": {},
   "outputs": [
    {
     "data": {
      "text/html": [
       "<div>\n",
       "<style scoped>\n",
       "    .dataframe tbody tr th:only-of-type {\n",
       "        vertical-align: middle;\n",
       "    }\n",
       "\n",
       "    .dataframe tbody tr th {\n",
       "        vertical-align: top;\n",
       "    }\n",
       "\n",
       "    .dataframe thead th {\n",
       "        text-align: right;\n",
       "    }\n",
       "</style>\n",
       "<table border=\"1\" class=\"dataframe\">\n",
       "  <thead>\n",
       "    <tr style=\"text-align: right;\">\n",
       "      <th></th>\n",
       "      <th>Original</th>\n",
       "      <th>Predicted</th>\n",
       "    </tr>\n",
       "  </thead>\n",
       "  <tbody>\n",
       "    <tr>\n",
       "      <th>201</th>\n",
       "      <td>0</td>\n",
       "      <td>0</td>\n",
       "    </tr>\n",
       "    <tr>\n",
       "      <th>115</th>\n",
       "      <td>0</td>\n",
       "      <td>0</td>\n",
       "    </tr>\n",
       "    <tr>\n",
       "      <th>255</th>\n",
       "      <td>1</td>\n",
       "      <td>0</td>\n",
       "    </tr>\n",
       "    <tr>\n",
       "      <th>1103</th>\n",
       "      <td>0</td>\n",
       "      <td>0</td>\n",
       "    </tr>\n",
       "    <tr>\n",
       "      <th>195</th>\n",
       "      <td>1</td>\n",
       "      <td>1</td>\n",
       "    </tr>\n",
       "  </tbody>\n",
       "</table>\n",
       "</div>"
      ],
      "text/plain": [
       "      Original  Predicted\n",
       "201          0          0\n",
       "115          0          0\n",
       "255          1          0\n",
       "1103         0          0\n",
       "195          1          1"
      ]
     },
     "execution_count": 131,
     "metadata": {},
     "output_type": "execute_result"
    }
   ],
   "source": [
    "y=pd.DataFrame({'Original':y_test,'Predicted':y_pred})\n",
    "y.head()"
   ]
  },
  {
   "cell_type": "code",
   "execution_count": 132,
   "id": "05a4da8d",
   "metadata": {},
   "outputs": [
    {
     "data": {
      "text/html": [
       "<div>\n",
       "<style scoped>\n",
       "    .dataframe tbody tr th:only-of-type {\n",
       "        vertical-align: middle;\n",
       "    }\n",
       "\n",
       "    .dataframe tbody tr th {\n",
       "        vertical-align: top;\n",
       "    }\n",
       "\n",
       "    .dataframe thead th {\n",
       "        text-align: right;\n",
       "    }\n",
       "</style>\n",
       "<table border=\"1\" class=\"dataframe\">\n",
       "  <thead>\n",
       "    <tr style=\"text-align: right;\">\n",
       "      <th></th>\n",
       "      <th>Original</th>\n",
       "      <th>Predicted</th>\n",
       "    </tr>\n",
       "  </thead>\n",
       "  <tbody>\n",
       "    <tr>\n",
       "      <th>1085</th>\n",
       "      <td>0</td>\n",
       "      <td>1</td>\n",
       "    </tr>\n",
       "    <tr>\n",
       "      <th>821</th>\n",
       "      <td>1</td>\n",
       "      <td>0</td>\n",
       "    </tr>\n",
       "    <tr>\n",
       "      <th>767</th>\n",
       "      <td>0</td>\n",
       "      <td>1</td>\n",
       "    </tr>\n",
       "    <tr>\n",
       "      <th>1271</th>\n",
       "      <td>0</td>\n",
       "      <td>1</td>\n",
       "    </tr>\n",
       "    <tr>\n",
       "      <th>891</th>\n",
       "      <td>1</td>\n",
       "      <td>0</td>\n",
       "    </tr>\n",
       "    <tr>\n",
       "      <th>1263</th>\n",
       "      <td>0</td>\n",
       "      <td>0</td>\n",
       "    </tr>\n",
       "    <tr>\n",
       "      <th>663</th>\n",
       "      <td>0</td>\n",
       "      <td>0</td>\n",
       "    </tr>\n",
       "    <tr>\n",
       "      <th>286</th>\n",
       "      <td>1</td>\n",
       "      <td>1</td>\n",
       "    </tr>\n",
       "    <tr>\n",
       "      <th>34</th>\n",
       "      <td>0</td>\n",
       "      <td>0</td>\n",
       "    </tr>\n",
       "    <tr>\n",
       "      <th>409</th>\n",
       "      <td>0</td>\n",
       "      <td>0</td>\n",
       "    </tr>\n",
       "  </tbody>\n",
       "</table>\n",
       "</div>"
      ],
      "text/plain": [
       "      Original  Predicted\n",
       "1085         0          1\n",
       "821          1          0\n",
       "767          0          1\n",
       "1271         0          1\n",
       "891          1          0\n",
       "1263         0          0\n",
       "663          0          0\n",
       "286          1          1\n",
       "34           0          0\n",
       "409          0          0"
      ]
     },
     "execution_count": 132,
     "metadata": {},
     "output_type": "execute_result"
    }
   ],
   "source": [
    "y.sample(10)"
   ]
  },
  {
   "cell_type": "raw",
   "id": "218caff1",
   "metadata": {},
   "source": [
    "LogisticRegression:\n",
    "metrics computed from a confusion matrix\n",
    "Accuracy:\t 0.6513994910941476\n",
    "Sensitivity:\t 0.46629213483146065\n",
    "Specificity:\t 0.8046511627906977\n",
    "Precision:\t 0.664\n",
    "Classification Eerror: 0.34860050890585237\n",
    "False_Positive_Rate: 0.1953488372093023\n",
    "\n",
    "DecisionTree:\n",
    "metrics computed from a confusion matrix\n",
    "Accuracy:\t 0.7099236641221374\n",
    "Sensitivity:\t 0.6179775280898876\n",
    "Specificity:\t 0.786046511627907\n",
    "Precision:\t 0.7051282051282052\n",
    "Classification Eerror: 0.29007633587786263\n",
    "False_Positive_Rate: 0.21395348837209305\n",
    "\n",
    "KNN:\n",
    "metrics computed from a confusion matrix\n",
    "Accuracy:\t 0.5674300254452926\n",
    "Sensitivity:\t 0.4101123595505618\n",
    "Specificity:\t 0.6976744186046512\n",
    "Precision:\t 0.5289855072463768\n",
    "Classification Eerror: 0.43256997455470736\n",
    "False_Positive_Rate: 0.3023255813953488\n",
    "\n",
    "SVC:\n",
    "metrics computed from a confusion matrix\n",
    "Accuracy:\t 0.5852417302798982\n",
    "Sensitivity:\t 0.10112359550561797\n",
    "Specificity:\t 0.986046511627907\n",
    "Precision:\t 0.8571428571428571\n",
    "Classification Eerror: 0.41475826972010177\n",
    "False_Positive_Rate: 0.013953488372092981\n",
    "\n",
    "RFC:\n",
    "metrics computed from a confusion matrix\n",
    "Accuracy:\t 0.628498727735369\n",
    "Sensitivity:\t 0.5337078651685393\n",
    "Specificity:\t 0.7069767441860465\n",
    "Precision:\t 0.6012658227848101\n",
    "Classification Eerror: 0.37150127226463103\n",
    "False_Positive_Rate: 0.2930232558139535"
   ]
  },
  {
   "cell_type": "code",
   "execution_count": null,
   "id": "1a4e1235",
   "metadata": {},
   "outputs": [],
   "source": []
  }
 ],
 "metadata": {
  "kernelspec": {
   "display_name": "Python 3 (ipykernel)",
   "language": "python",
   "name": "python3"
  },
  "language_info": {
   "codemirror_mode": {
    "name": "ipython",
    "version": 3
   },
   "file_extension": ".py",
   "mimetype": "text/x-python",
   "name": "python",
   "nbconvert_exporter": "python",
   "pygments_lexer": "ipython3",
   "version": "3.9.12"
  }
 },
 "nbformat": 4,
 "nbformat_minor": 5
}
